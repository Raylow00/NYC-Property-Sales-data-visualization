{
  "nbformat": 4,
  "nbformat_minor": 0,
  "metadata": {
    "colab": {
      "name": "NYC Property Sales.ipynb",
      "provenance": [],
      "collapsed_sections": [],
      "authorship_tag": "ABX9TyNaAz36po2c8ft559tBTHf5",
      "include_colab_link": true
    },
    "kernelspec": {
      "name": "python3",
      "display_name": "Python 3"
    },
    "accelerator": "GPU"
  },
  "cells": [
    {
      "cell_type": "markdown",
      "metadata": {
        "id": "view-in-github",
        "colab_type": "text"
      },
      "source": [
        "<a href=\"https://colab.research.google.com/github/Raylow00/NYC-Property-Sales-data-visualization/blob/master/NYC_Property_Sales.ipynb\" target=\"_parent\"><img src=\"https://colab.research.google.com/assets/colab-badge.svg\" alt=\"Open In Colab\"/></a>"
      ]
    },
    {
      "cell_type": "code",
      "metadata": {
        "id": "peXelKMhVDMI",
        "colab_type": "code",
        "colab": {}
      },
      "source": [
        "import pandas as pd\n",
        "import numpy as np\n",
        "import matplotlib.pyplot as plt\n",
        "import seaborn as sns\n"
      ],
      "execution_count": 0,
      "outputs": []
    },
    {
      "cell_type": "code",
      "metadata": {
        "id": "mpQ42bsXWCuc",
        "colab_type": "code",
        "outputId": "a4d89f1f-a4f2-4d6e-fba5-22616632a7ef",
        "colab": {
          "base_uri": "https://localhost:8080/",
          "height": 128
        }
      },
      "source": [
        "from google.colab import drive\n",
        "drive.mount('/content/drive/')"
      ],
      "execution_count": 0,
      "outputs": [
        {
          "output_type": "stream",
          "text": [
            "Go to this URL in a browser: https://accounts.google.com/o/oauth2/auth?client_id=947318989803-6bn6qk8qdgf4n4g3pfee6491hc0brc4i.apps.googleusercontent.com&redirect_uri=urn%3aietf%3awg%3aoauth%3a2.0%3aoob&response_type=code&scope=email%20https%3a%2f%2fwww.googleapis.com%2fauth%2fdocs.test%20https%3a%2f%2fwww.googleapis.com%2fauth%2fdrive%20https%3a%2f%2fwww.googleapis.com%2fauth%2fdrive.photos.readonly%20https%3a%2f%2fwww.googleapis.com%2fauth%2fpeopleapi.readonly\n",
            "\n",
            "Enter your authorization code:\n",
            "··········\n",
            "Mounted at /content/drive/\n"
          ],
          "name": "stdout"
        }
      ]
    },
    {
      "cell_type": "code",
      "metadata": {
        "id": "UjNGBFo2WHg_",
        "colab_type": "code",
        "colab": {}
      },
      "source": [
        "from sklearn.model_selection import KFold\n",
        "from sklearn.model_selection import train_test_split\n",
        "from sklearn.model_selection import GridSearchCV\n",
        "from sklearn.preprocessing import StandardScaler\n",
        "\n",
        "from sklearn.linear_model import LinearRegression\n",
        "from sklearn.linear_model import Lasso\n",
        "from sklearn.linear_model import Ridge\n",
        "from sklearn.linear_model import ElasticNet\n",
        "from sklearn.ensemble import RandomForestRegressor\n",
        "\n",
        "from sklearn import metrics\n",
        "from sklearn.metrics import mean_squared_error\n",
        "from sklearn.model_selection import cross_val_score\n",
        "\n",
        "from scipy import stats"
      ],
      "execution_count": 0,
      "outputs": []
    },
    {
      "cell_type": "code",
      "metadata": {
        "id": "yF8623DuWyBq",
        "colab_type": "code",
        "outputId": "5aec864c-6d2e-493c-fd44-8024570b6730",
        "colab": {
          "base_uri": "https://localhost:8080/",
          "height": 1000
        }
      },
      "source": [
        "DATASET_PATH = '/content/drive/My Drive/Colab/Machine Learning/Practice/Datasets/nyc-rolling-sales.csv'\n",
        "\n",
        "data = pd.read_csv(DATASET_PATH)\n",
        "data.head(20)"
      ],
      "execution_count": 0,
      "outputs": [
        {
          "output_type": "execute_result",
          "data": {
            "text/html": [
              "<div>\n",
              "<style scoped>\n",
              "    .dataframe tbody tr th:only-of-type {\n",
              "        vertical-align: middle;\n",
              "    }\n",
              "\n",
              "    .dataframe tbody tr th {\n",
              "        vertical-align: top;\n",
              "    }\n",
              "\n",
              "    .dataframe thead th {\n",
              "        text-align: right;\n",
              "    }\n",
              "</style>\n",
              "<table border=\"1\" class=\"dataframe\">\n",
              "  <thead>\n",
              "    <tr style=\"text-align: right;\">\n",
              "      <th></th>\n",
              "      <th>Unnamed: 0</th>\n",
              "      <th>BOROUGH</th>\n",
              "      <th>NEIGHBORHOOD</th>\n",
              "      <th>BUILDING CLASS CATEGORY</th>\n",
              "      <th>TAX CLASS AT PRESENT</th>\n",
              "      <th>BLOCK</th>\n",
              "      <th>LOT</th>\n",
              "      <th>EASE-MENT</th>\n",
              "      <th>BUILDING CLASS AT PRESENT</th>\n",
              "      <th>ADDRESS</th>\n",
              "      <th>APARTMENT NUMBER</th>\n",
              "      <th>ZIP CODE</th>\n",
              "      <th>RESIDENTIAL UNITS</th>\n",
              "      <th>COMMERCIAL UNITS</th>\n",
              "      <th>TOTAL UNITS</th>\n",
              "      <th>LAND SQUARE FEET</th>\n",
              "      <th>GROSS SQUARE FEET</th>\n",
              "      <th>YEAR BUILT</th>\n",
              "      <th>TAX CLASS AT TIME OF SALE</th>\n",
              "      <th>BUILDING CLASS AT TIME OF SALE</th>\n",
              "      <th>SALE PRICE</th>\n",
              "      <th>SALE DATE</th>\n",
              "    </tr>\n",
              "  </thead>\n",
              "  <tbody>\n",
              "    <tr>\n",
              "      <th>0</th>\n",
              "      <td>4</td>\n",
              "      <td>1</td>\n",
              "      <td>ALPHABET CITY</td>\n",
              "      <td>07 RENTALS - WALKUP APARTMENTS</td>\n",
              "      <td>2A</td>\n",
              "      <td>392</td>\n",
              "      <td>6</td>\n",
              "      <td></td>\n",
              "      <td>C2</td>\n",
              "      <td>153 AVENUE B</td>\n",
              "      <td></td>\n",
              "      <td>10009</td>\n",
              "      <td>5</td>\n",
              "      <td>0</td>\n",
              "      <td>5</td>\n",
              "      <td>1633</td>\n",
              "      <td>6440</td>\n",
              "      <td>1900</td>\n",
              "      <td>2</td>\n",
              "      <td>C2</td>\n",
              "      <td>6625000</td>\n",
              "      <td>2017-07-19 00:00:00</td>\n",
              "    </tr>\n",
              "    <tr>\n",
              "      <th>1</th>\n",
              "      <td>5</td>\n",
              "      <td>1</td>\n",
              "      <td>ALPHABET CITY</td>\n",
              "      <td>07 RENTALS - WALKUP APARTMENTS</td>\n",
              "      <td>2</td>\n",
              "      <td>399</td>\n",
              "      <td>26</td>\n",
              "      <td></td>\n",
              "      <td>C7</td>\n",
              "      <td>234 EAST 4TH   STREET</td>\n",
              "      <td></td>\n",
              "      <td>10009</td>\n",
              "      <td>28</td>\n",
              "      <td>3</td>\n",
              "      <td>31</td>\n",
              "      <td>4616</td>\n",
              "      <td>18690</td>\n",
              "      <td>1900</td>\n",
              "      <td>2</td>\n",
              "      <td>C7</td>\n",
              "      <td>-</td>\n",
              "      <td>2016-12-14 00:00:00</td>\n",
              "    </tr>\n",
              "    <tr>\n",
              "      <th>2</th>\n",
              "      <td>6</td>\n",
              "      <td>1</td>\n",
              "      <td>ALPHABET CITY</td>\n",
              "      <td>07 RENTALS - WALKUP APARTMENTS</td>\n",
              "      <td>2</td>\n",
              "      <td>399</td>\n",
              "      <td>39</td>\n",
              "      <td></td>\n",
              "      <td>C7</td>\n",
              "      <td>197 EAST 3RD   STREET</td>\n",
              "      <td></td>\n",
              "      <td>10009</td>\n",
              "      <td>16</td>\n",
              "      <td>1</td>\n",
              "      <td>17</td>\n",
              "      <td>2212</td>\n",
              "      <td>7803</td>\n",
              "      <td>1900</td>\n",
              "      <td>2</td>\n",
              "      <td>C7</td>\n",
              "      <td>-</td>\n",
              "      <td>2016-12-09 00:00:00</td>\n",
              "    </tr>\n",
              "    <tr>\n",
              "      <th>3</th>\n",
              "      <td>7</td>\n",
              "      <td>1</td>\n",
              "      <td>ALPHABET CITY</td>\n",
              "      <td>07 RENTALS - WALKUP APARTMENTS</td>\n",
              "      <td>2B</td>\n",
              "      <td>402</td>\n",
              "      <td>21</td>\n",
              "      <td></td>\n",
              "      <td>C4</td>\n",
              "      <td>154 EAST 7TH STREET</td>\n",
              "      <td></td>\n",
              "      <td>10009</td>\n",
              "      <td>10</td>\n",
              "      <td>0</td>\n",
              "      <td>10</td>\n",
              "      <td>2272</td>\n",
              "      <td>6794</td>\n",
              "      <td>1913</td>\n",
              "      <td>2</td>\n",
              "      <td>C4</td>\n",
              "      <td>3936272</td>\n",
              "      <td>2016-09-23 00:00:00</td>\n",
              "    </tr>\n",
              "    <tr>\n",
              "      <th>4</th>\n",
              "      <td>8</td>\n",
              "      <td>1</td>\n",
              "      <td>ALPHABET CITY</td>\n",
              "      <td>07 RENTALS - WALKUP APARTMENTS</td>\n",
              "      <td>2A</td>\n",
              "      <td>404</td>\n",
              "      <td>55</td>\n",
              "      <td></td>\n",
              "      <td>C2</td>\n",
              "      <td>301 EAST 10TH   STREET</td>\n",
              "      <td></td>\n",
              "      <td>10009</td>\n",
              "      <td>6</td>\n",
              "      <td>0</td>\n",
              "      <td>6</td>\n",
              "      <td>2369</td>\n",
              "      <td>4615</td>\n",
              "      <td>1900</td>\n",
              "      <td>2</td>\n",
              "      <td>C2</td>\n",
              "      <td>8000000</td>\n",
              "      <td>2016-11-17 00:00:00</td>\n",
              "    </tr>\n",
              "    <tr>\n",
              "      <th>5</th>\n",
              "      <td>9</td>\n",
              "      <td>1</td>\n",
              "      <td>ALPHABET CITY</td>\n",
              "      <td>07 RENTALS - WALKUP APARTMENTS</td>\n",
              "      <td>2</td>\n",
              "      <td>405</td>\n",
              "      <td>16</td>\n",
              "      <td></td>\n",
              "      <td>C4</td>\n",
              "      <td>516 EAST 12TH   STREET</td>\n",
              "      <td></td>\n",
              "      <td>10009</td>\n",
              "      <td>20</td>\n",
              "      <td>0</td>\n",
              "      <td>20</td>\n",
              "      <td>2581</td>\n",
              "      <td>9730</td>\n",
              "      <td>1900</td>\n",
              "      <td>2</td>\n",
              "      <td>C4</td>\n",
              "      <td>-</td>\n",
              "      <td>2017-07-20 00:00:00</td>\n",
              "    </tr>\n",
              "    <tr>\n",
              "      <th>6</th>\n",
              "      <td>10</td>\n",
              "      <td>1</td>\n",
              "      <td>ALPHABET CITY</td>\n",
              "      <td>07 RENTALS - WALKUP APARTMENTS</td>\n",
              "      <td>2B</td>\n",
              "      <td>406</td>\n",
              "      <td>32</td>\n",
              "      <td></td>\n",
              "      <td>C4</td>\n",
              "      <td>210 AVENUE B</td>\n",
              "      <td></td>\n",
              "      <td>10009</td>\n",
              "      <td>8</td>\n",
              "      <td>0</td>\n",
              "      <td>8</td>\n",
              "      <td>1750</td>\n",
              "      <td>4226</td>\n",
              "      <td>1920</td>\n",
              "      <td>2</td>\n",
              "      <td>C4</td>\n",
              "      <td>3192840</td>\n",
              "      <td>2016-09-23 00:00:00</td>\n",
              "    </tr>\n",
              "    <tr>\n",
              "      <th>7</th>\n",
              "      <td>11</td>\n",
              "      <td>1</td>\n",
              "      <td>ALPHABET CITY</td>\n",
              "      <td>07 RENTALS - WALKUP APARTMENTS</td>\n",
              "      <td>2</td>\n",
              "      <td>407</td>\n",
              "      <td>18</td>\n",
              "      <td></td>\n",
              "      <td>C7</td>\n",
              "      <td>520 EAST 14TH   STREET</td>\n",
              "      <td></td>\n",
              "      <td>10009</td>\n",
              "      <td>44</td>\n",
              "      <td>2</td>\n",
              "      <td>46</td>\n",
              "      <td>5163</td>\n",
              "      <td>21007</td>\n",
              "      <td>1900</td>\n",
              "      <td>2</td>\n",
              "      <td>C7</td>\n",
              "      <td>-</td>\n",
              "      <td>2017-07-20 00:00:00</td>\n",
              "    </tr>\n",
              "    <tr>\n",
              "      <th>8</th>\n",
              "      <td>12</td>\n",
              "      <td>1</td>\n",
              "      <td>ALPHABET CITY</td>\n",
              "      <td>08 RENTALS - ELEVATOR APARTMENTS</td>\n",
              "      <td>2</td>\n",
              "      <td>379</td>\n",
              "      <td>34</td>\n",
              "      <td></td>\n",
              "      <td>D5</td>\n",
              "      <td>141 AVENUE D</td>\n",
              "      <td></td>\n",
              "      <td>10009</td>\n",
              "      <td>15</td>\n",
              "      <td>0</td>\n",
              "      <td>15</td>\n",
              "      <td>1534</td>\n",
              "      <td>9198</td>\n",
              "      <td>1920</td>\n",
              "      <td>2</td>\n",
              "      <td>D5</td>\n",
              "      <td>-</td>\n",
              "      <td>2017-06-20 00:00:00</td>\n",
              "    </tr>\n",
              "    <tr>\n",
              "      <th>9</th>\n",
              "      <td>13</td>\n",
              "      <td>1</td>\n",
              "      <td>ALPHABET CITY</td>\n",
              "      <td>08 RENTALS - ELEVATOR APARTMENTS</td>\n",
              "      <td>2</td>\n",
              "      <td>387</td>\n",
              "      <td>153</td>\n",
              "      <td></td>\n",
              "      <td>D9</td>\n",
              "      <td>629 EAST 5TH STREET</td>\n",
              "      <td></td>\n",
              "      <td>10009</td>\n",
              "      <td>24</td>\n",
              "      <td>0</td>\n",
              "      <td>24</td>\n",
              "      <td>4489</td>\n",
              "      <td>18523</td>\n",
              "      <td>1920</td>\n",
              "      <td>2</td>\n",
              "      <td>D9</td>\n",
              "      <td>16232000</td>\n",
              "      <td>2016-11-07 00:00:00</td>\n",
              "    </tr>\n",
              "    <tr>\n",
              "      <th>10</th>\n",
              "      <td>14</td>\n",
              "      <td>1</td>\n",
              "      <td>ALPHABET CITY</td>\n",
              "      <td>08 RENTALS - ELEVATOR APARTMENTS</td>\n",
              "      <td>2</td>\n",
              "      <td>394</td>\n",
              "      <td>44</td>\n",
              "      <td></td>\n",
              "      <td>D7</td>\n",
              "      <td>181 AVENUE C</td>\n",
              "      <td></td>\n",
              "      <td>10009</td>\n",
              "      <td>30</td>\n",
              "      <td>4</td>\n",
              "      <td>34</td>\n",
              "      <td>4295</td>\n",
              "      <td>21328</td>\n",
              "      <td>1910</td>\n",
              "      <td>2</td>\n",
              "      <td>D7</td>\n",
              "      <td>-</td>\n",
              "      <td>2017-07-20 00:00:00</td>\n",
              "    </tr>\n",
              "    <tr>\n",
              "      <th>11</th>\n",
              "      <td>15</td>\n",
              "      <td>1</td>\n",
              "      <td>ALPHABET CITY</td>\n",
              "      <td>08 RENTALS - ELEVATOR APARTMENTS</td>\n",
              "      <td>2B</td>\n",
              "      <td>400</td>\n",
              "      <td>21</td>\n",
              "      <td></td>\n",
              "      <td>D1</td>\n",
              "      <td>530-532 EAST 5TH STREET</td>\n",
              "      <td></td>\n",
              "      <td>10009</td>\n",
              "      <td>10</td>\n",
              "      <td>0</td>\n",
              "      <td>10</td>\n",
              "      <td>3717</td>\n",
              "      <td>12350</td>\n",
              "      <td>2009</td>\n",
              "      <td>2</td>\n",
              "      <td>D1</td>\n",
              "      <td>10350000</td>\n",
              "      <td>2016-10-17 00:00:00</td>\n",
              "    </tr>\n",
              "    <tr>\n",
              "      <th>12</th>\n",
              "      <td>16</td>\n",
              "      <td>1</td>\n",
              "      <td>ALPHABET CITY</td>\n",
              "      <td>09 COOPS - WALKUP APARTMENTS</td>\n",
              "      <td>2</td>\n",
              "      <td>373</td>\n",
              "      <td>40</td>\n",
              "      <td></td>\n",
              "      <td>C6</td>\n",
              "      <td>327 EAST 3 STREET, 1C</td>\n",
              "      <td></td>\n",
              "      <td>10009</td>\n",
              "      <td>0</td>\n",
              "      <td>0</td>\n",
              "      <td>0</td>\n",
              "      <td>-</td>\n",
              "      <td>-</td>\n",
              "      <td>1920</td>\n",
              "      <td>2</td>\n",
              "      <td>C6</td>\n",
              "      <td>1</td>\n",
              "      <td>2016-09-06 00:00:00</td>\n",
              "    </tr>\n",
              "    <tr>\n",
              "      <th>13</th>\n",
              "      <td>17</td>\n",
              "      <td>1</td>\n",
              "      <td>ALPHABET CITY</td>\n",
              "      <td>09 COOPS - WALKUP APARTMENTS</td>\n",
              "      <td>2</td>\n",
              "      <td>373</td>\n",
              "      <td>40</td>\n",
              "      <td></td>\n",
              "      <td>C6</td>\n",
              "      <td>327 EAST 3 STREET, 1C</td>\n",
              "      <td></td>\n",
              "      <td>10009</td>\n",
              "      <td>0</td>\n",
              "      <td>0</td>\n",
              "      <td>0</td>\n",
              "      <td>-</td>\n",
              "      <td>-</td>\n",
              "      <td>1920</td>\n",
              "      <td>2</td>\n",
              "      <td>C6</td>\n",
              "      <td>499000</td>\n",
              "      <td>2017-03-10 00:00:00</td>\n",
              "    </tr>\n",
              "    <tr>\n",
              "      <th>14</th>\n",
              "      <td>18</td>\n",
              "      <td>1</td>\n",
              "      <td>ALPHABET CITY</td>\n",
              "      <td>09 COOPS - WALKUP APARTMENTS</td>\n",
              "      <td>2</td>\n",
              "      <td>373</td>\n",
              "      <td>40</td>\n",
              "      <td></td>\n",
              "      <td>C6</td>\n",
              "      <td>327 EAST 3 STREET, 3A</td>\n",
              "      <td></td>\n",
              "      <td>10009</td>\n",
              "      <td>0</td>\n",
              "      <td>0</td>\n",
              "      <td>0</td>\n",
              "      <td>-</td>\n",
              "      <td>-</td>\n",
              "      <td>1920</td>\n",
              "      <td>2</td>\n",
              "      <td>C6</td>\n",
              "      <td>10</td>\n",
              "      <td>2017-04-28 00:00:00</td>\n",
              "    </tr>\n",
              "    <tr>\n",
              "      <th>15</th>\n",
              "      <td>19</td>\n",
              "      <td>1</td>\n",
              "      <td>ALPHABET CITY</td>\n",
              "      <td>09 COOPS - WALKUP APARTMENTS</td>\n",
              "      <td>2</td>\n",
              "      <td>373</td>\n",
              "      <td>40</td>\n",
              "      <td></td>\n",
              "      <td>C6</td>\n",
              "      <td>327 EAST 3RD STREET, 5A</td>\n",
              "      <td></td>\n",
              "      <td>10009</td>\n",
              "      <td>0</td>\n",
              "      <td>0</td>\n",
              "      <td>0</td>\n",
              "      <td>-</td>\n",
              "      <td>-</td>\n",
              "      <td>1920</td>\n",
              "      <td>2</td>\n",
              "      <td>C6</td>\n",
              "      <td>529500</td>\n",
              "      <td>2017-06-09 00:00:00</td>\n",
              "    </tr>\n",
              "    <tr>\n",
              "      <th>16</th>\n",
              "      <td>20</td>\n",
              "      <td>1</td>\n",
              "      <td>ALPHABET CITY</td>\n",
              "      <td>09 COOPS - WALKUP APARTMENTS</td>\n",
              "      <td>2</td>\n",
              "      <td>373</td>\n",
              "      <td>40</td>\n",
              "      <td></td>\n",
              "      <td>C6</td>\n",
              "      <td>327 EAST 3 STREET, 2E</td>\n",
              "      <td></td>\n",
              "      <td>10009</td>\n",
              "      <td>0</td>\n",
              "      <td>0</td>\n",
              "      <td>0</td>\n",
              "      <td>-</td>\n",
              "      <td>-</td>\n",
              "      <td>1920</td>\n",
              "      <td>2</td>\n",
              "      <td>C6</td>\n",
              "      <td>423000</td>\n",
              "      <td>2017-07-14 00:00:00</td>\n",
              "    </tr>\n",
              "    <tr>\n",
              "      <th>17</th>\n",
              "      <td>21</td>\n",
              "      <td>1</td>\n",
              "      <td>ALPHABET CITY</td>\n",
              "      <td>09 COOPS - WALKUP APARTMENTS</td>\n",
              "      <td>2</td>\n",
              "      <td>373</td>\n",
              "      <td>46</td>\n",
              "      <td></td>\n",
              "      <td>C6</td>\n",
              "      <td>317 EAST 3RD STREET, 12</td>\n",
              "      <td></td>\n",
              "      <td>10009</td>\n",
              "      <td>0</td>\n",
              "      <td>0</td>\n",
              "      <td>0</td>\n",
              "      <td>-</td>\n",
              "      <td>-</td>\n",
              "      <td>1925</td>\n",
              "      <td>2</td>\n",
              "      <td>C6</td>\n",
              "      <td>501000</td>\n",
              "      <td>2017-03-16 00:00:00</td>\n",
              "    </tr>\n",
              "    <tr>\n",
              "      <th>18</th>\n",
              "      <td>22</td>\n",
              "      <td>1</td>\n",
              "      <td>ALPHABET CITY</td>\n",
              "      <td>09 COOPS - WALKUP APARTMENTS</td>\n",
              "      <td>2</td>\n",
              "      <td>373</td>\n",
              "      <td>49</td>\n",
              "      <td></td>\n",
              "      <td>C6</td>\n",
              "      <td>311 EAST 3RD STREET, 17</td>\n",
              "      <td></td>\n",
              "      <td>10009</td>\n",
              "      <td>0</td>\n",
              "      <td>0</td>\n",
              "      <td>0</td>\n",
              "      <td>-</td>\n",
              "      <td>-</td>\n",
              "      <td>1920</td>\n",
              "      <td>2</td>\n",
              "      <td>C6</td>\n",
              "      <td>450000</td>\n",
              "      <td>2016-09-01 00:00:00</td>\n",
              "    </tr>\n",
              "    <tr>\n",
              "      <th>19</th>\n",
              "      <td>23</td>\n",
              "      <td>1</td>\n",
              "      <td>ALPHABET CITY</td>\n",
              "      <td>09 COOPS - WALKUP APARTMENTS</td>\n",
              "      <td>2</td>\n",
              "      <td>373</td>\n",
              "      <td>49</td>\n",
              "      <td></td>\n",
              "      <td>C6</td>\n",
              "      <td>311 EAST 3RD, 22</td>\n",
              "      <td></td>\n",
              "      <td>10009</td>\n",
              "      <td>0</td>\n",
              "      <td>0</td>\n",
              "      <td>0</td>\n",
              "      <td>-</td>\n",
              "      <td>-</td>\n",
              "      <td>1920</td>\n",
              "      <td>2</td>\n",
              "      <td>C6</td>\n",
              "      <td>510000</td>\n",
              "      <td>2017-08-17 00:00:00</td>\n",
              "    </tr>\n",
              "  </tbody>\n",
              "</table>\n",
              "</div>"
            ],
            "text/plain": [
              "    Unnamed: 0  BOROUGH  ... SALE PRICE            SALE DATE\n",
              "0            4        1  ...    6625000  2017-07-19 00:00:00\n",
              "1            5        1  ...        -    2016-12-14 00:00:00\n",
              "2            6        1  ...        -    2016-12-09 00:00:00\n",
              "3            7        1  ...    3936272  2016-09-23 00:00:00\n",
              "4            8        1  ...    8000000  2016-11-17 00:00:00\n",
              "5            9        1  ...        -    2017-07-20 00:00:00\n",
              "6           10        1  ...    3192840  2016-09-23 00:00:00\n",
              "7           11        1  ...        -    2017-07-20 00:00:00\n",
              "8           12        1  ...        -    2017-06-20 00:00:00\n",
              "9           13        1  ...   16232000  2016-11-07 00:00:00\n",
              "10          14        1  ...        -    2017-07-20 00:00:00\n",
              "11          15        1  ...   10350000  2016-10-17 00:00:00\n",
              "12          16        1  ...          1  2016-09-06 00:00:00\n",
              "13          17        1  ...     499000  2017-03-10 00:00:00\n",
              "14          18        1  ...         10  2017-04-28 00:00:00\n",
              "15          19        1  ...     529500  2017-06-09 00:00:00\n",
              "16          20        1  ...     423000  2017-07-14 00:00:00\n",
              "17          21        1  ...     501000  2017-03-16 00:00:00\n",
              "18          22        1  ...     450000  2016-09-01 00:00:00\n",
              "19          23        1  ...     510000  2017-08-17 00:00:00\n",
              "\n",
              "[20 rows x 22 columns]"
            ]
          },
          "metadata": {
            "tags": []
          },
          "execution_count": 4
        }
      ]
    },
    {
      "cell_type": "code",
      "metadata": {
        "id": "HmZ0QhtkXByw",
        "colab_type": "code",
        "colab": {}
      },
      "source": [
        "del data['EASE-MENT']   # column is empty\n",
        "del data['Unnamed: 0']  # not relevant, might be an iterator\n",
        "del data['SALE DATE']\n"
      ],
      "execution_count": 0,
      "outputs": []
    },
    {
      "cell_type": "code",
      "metadata": {
        "id": "-z0kwS60Y2Lq",
        "colab_type": "code",
        "outputId": "75315621-1482-46ac-cd13-34c51d2b2ea1",
        "colab": {
          "base_uri": "https://localhost:8080/",
          "height": 35
        }
      },
      "source": [
        "# Check for duplicated entries\n",
        "sum(data.duplicated(data.columns))"
      ],
      "execution_count": 0,
      "outputs": [
        {
          "output_type": "execute_result",
          "data": {
            "text/plain": [
              "1358"
            ]
          },
          "metadata": {
            "tags": []
          },
          "execution_count": 6
        }
      ]
    },
    {
      "cell_type": "code",
      "metadata": {
        "id": "a0qgYUFUZANd",
        "colab_type": "code",
        "outputId": "66c2e937-eca1-4a21-e613-94c9e0570cf4",
        "colab": {
          "base_uri": "https://localhost:8080/",
          "height": 35
        }
      },
      "source": [
        "data = data.drop_duplicates(data.columns, keep='last')\n",
        "sum(data.duplicated(data.columns))"
      ],
      "execution_count": 0,
      "outputs": [
        {
          "output_type": "execute_result",
          "data": {
            "text/plain": [
              "0"
            ]
          },
          "metadata": {
            "tags": []
          },
          "execution_count": 7
        }
      ]
    },
    {
      "cell_type": "code",
      "metadata": {
        "id": "WbQoHaxXZHUb",
        "colab_type": "code",
        "outputId": "8d1cf497-0adf-4b90-eeb4-84f227479d1c",
        "colab": {
          "base_uri": "https://localhost:8080/",
          "height": 35
        }
      },
      "source": [
        "data.shape"
      ],
      "execution_count": 0,
      "outputs": [
        {
          "output_type": "execute_result",
          "data": {
            "text/plain": [
              "(83190, 19)"
            ]
          },
          "metadata": {
            "tags": []
          },
          "execution_count": 8
        }
      ]
    },
    {
      "cell_type": "code",
      "metadata": {
        "id": "UDEBgyL9aktu",
        "colab_type": "code",
        "outputId": "6d372965-0c5e-4371-9f56-a0da1e75f118",
        "colab": {
          "base_uri": "https://localhost:8080/",
          "height": 453
        }
      },
      "source": [
        "data.info()"
      ],
      "execution_count": 0,
      "outputs": [
        {
          "output_type": "stream",
          "text": [
            "<class 'pandas.core.frame.DataFrame'>\n",
            "Int64Index: 83190 entries, 0 to 84547\n",
            "Data columns (total 19 columns):\n",
            "BOROUGH                           83190 non-null int64\n",
            "NEIGHBORHOOD                      83190 non-null object\n",
            "BUILDING CLASS CATEGORY           83190 non-null object\n",
            "TAX CLASS AT PRESENT              83190 non-null object\n",
            "BLOCK                             83190 non-null int64\n",
            "LOT                               83190 non-null int64\n",
            "BUILDING CLASS AT PRESENT         83190 non-null object\n",
            "ADDRESS                           83190 non-null object\n",
            "APARTMENT NUMBER                  83190 non-null object\n",
            "ZIP CODE                          83190 non-null int64\n",
            "RESIDENTIAL UNITS                 83190 non-null int64\n",
            "COMMERCIAL UNITS                  83190 non-null int64\n",
            "TOTAL UNITS                       83190 non-null int64\n",
            "LAND SQUARE FEET                  83190 non-null object\n",
            "GROSS SQUARE FEET                 83190 non-null object\n",
            "YEAR BUILT                        83190 non-null int64\n",
            "TAX CLASS AT TIME OF SALE         83190 non-null int64\n",
            "BUILDING CLASS AT TIME OF SALE    83190 non-null object\n",
            "SALE PRICE                        83190 non-null object\n",
            "dtypes: int64(9), object(10)\n",
            "memory usage: 12.7+ MB\n"
          ],
          "name": "stdout"
        }
      ]
    },
    {
      "cell_type": "code",
      "metadata": {
        "id": "frJ8EjtCamWH",
        "colab_type": "code",
        "colab": {}
      },
      "source": [
        "# Convert some columns to the appropriate datatype\n",
        "\n",
        "data['TAX CLASS AT TIME OF SALE'] = data['TAX CLASS AT TIME OF SALE'].astype('category')\n",
        "\n",
        "data['TAX CLASS AT PRESENT'] = data['TAX CLASS AT PRESENT'].astype('category')\n",
        "\n",
        "data['LAND SQUARE FEET'] = pd.to_numeric(data['LAND SQUARE FEET'], errors='coerce')\n",
        "\n",
        "data['GROSS SQUARE FEET'] = pd.to_numeric(data['GROSS SQUARE FEET'], errors='coerce')\n",
        "\n",
        "data['SALE PRICE'] = pd.to_numeric(data['SALE PRICE'], errors='coerce')\n",
        "\n",
        "data['BOROUGH'] = data['BOROUGH'].astype('category')"
      ],
      "execution_count": 0,
      "outputs": []
    },
    {
      "cell_type": "code",
      "metadata": {
        "id": "0aNfJOe-cC-C",
        "colab_type": "code",
        "outputId": "3cea2663-cc93-4d36-a16a-ee32d91dee41",
        "colab": {
          "base_uri": "https://localhost:8080/",
          "height": 556
        }
      },
      "source": [
        "data.head()"
      ],
      "execution_count": 0,
      "outputs": [
        {
          "output_type": "execute_result",
          "data": {
            "text/html": [
              "<div>\n",
              "<style scoped>\n",
              "    .dataframe tbody tr th:only-of-type {\n",
              "        vertical-align: middle;\n",
              "    }\n",
              "\n",
              "    .dataframe tbody tr th {\n",
              "        vertical-align: top;\n",
              "    }\n",
              "\n",
              "    .dataframe thead th {\n",
              "        text-align: right;\n",
              "    }\n",
              "</style>\n",
              "<table border=\"1\" class=\"dataframe\">\n",
              "  <thead>\n",
              "    <tr style=\"text-align: right;\">\n",
              "      <th></th>\n",
              "      <th>BOROUGH</th>\n",
              "      <th>NEIGHBORHOOD</th>\n",
              "      <th>BUILDING CLASS CATEGORY</th>\n",
              "      <th>TAX CLASS AT PRESENT</th>\n",
              "      <th>BLOCK</th>\n",
              "      <th>LOT</th>\n",
              "      <th>BUILDING CLASS AT PRESENT</th>\n",
              "      <th>ADDRESS</th>\n",
              "      <th>APARTMENT NUMBER</th>\n",
              "      <th>ZIP CODE</th>\n",
              "      <th>RESIDENTIAL UNITS</th>\n",
              "      <th>COMMERCIAL UNITS</th>\n",
              "      <th>TOTAL UNITS</th>\n",
              "      <th>LAND SQUARE FEET</th>\n",
              "      <th>GROSS SQUARE FEET</th>\n",
              "      <th>YEAR BUILT</th>\n",
              "      <th>TAX CLASS AT TIME OF SALE</th>\n",
              "      <th>BUILDING CLASS AT TIME OF SALE</th>\n",
              "      <th>SALE PRICE</th>\n",
              "    </tr>\n",
              "  </thead>\n",
              "  <tbody>\n",
              "    <tr>\n",
              "      <th>0</th>\n",
              "      <td>1</td>\n",
              "      <td>ALPHABET CITY</td>\n",
              "      <td>07 RENTALS - WALKUP APARTMENTS</td>\n",
              "      <td>2A</td>\n",
              "      <td>392</td>\n",
              "      <td>6</td>\n",
              "      <td>C2</td>\n",
              "      <td>153 AVENUE B</td>\n",
              "      <td></td>\n",
              "      <td>10009</td>\n",
              "      <td>5</td>\n",
              "      <td>0</td>\n",
              "      <td>5</td>\n",
              "      <td>1633.0</td>\n",
              "      <td>6440.0</td>\n",
              "      <td>1900</td>\n",
              "      <td>2</td>\n",
              "      <td>C2</td>\n",
              "      <td>6625000.0</td>\n",
              "    </tr>\n",
              "    <tr>\n",
              "      <th>1</th>\n",
              "      <td>1</td>\n",
              "      <td>ALPHABET CITY</td>\n",
              "      <td>07 RENTALS - WALKUP APARTMENTS</td>\n",
              "      <td>2</td>\n",
              "      <td>399</td>\n",
              "      <td>26</td>\n",
              "      <td>C7</td>\n",
              "      <td>234 EAST 4TH   STREET</td>\n",
              "      <td></td>\n",
              "      <td>10009</td>\n",
              "      <td>28</td>\n",
              "      <td>3</td>\n",
              "      <td>31</td>\n",
              "      <td>4616.0</td>\n",
              "      <td>18690.0</td>\n",
              "      <td>1900</td>\n",
              "      <td>2</td>\n",
              "      <td>C7</td>\n",
              "      <td>NaN</td>\n",
              "    </tr>\n",
              "    <tr>\n",
              "      <th>2</th>\n",
              "      <td>1</td>\n",
              "      <td>ALPHABET CITY</td>\n",
              "      <td>07 RENTALS - WALKUP APARTMENTS</td>\n",
              "      <td>2</td>\n",
              "      <td>399</td>\n",
              "      <td>39</td>\n",
              "      <td>C7</td>\n",
              "      <td>197 EAST 3RD   STREET</td>\n",
              "      <td></td>\n",
              "      <td>10009</td>\n",
              "      <td>16</td>\n",
              "      <td>1</td>\n",
              "      <td>17</td>\n",
              "      <td>2212.0</td>\n",
              "      <td>7803.0</td>\n",
              "      <td>1900</td>\n",
              "      <td>2</td>\n",
              "      <td>C7</td>\n",
              "      <td>NaN</td>\n",
              "    </tr>\n",
              "    <tr>\n",
              "      <th>3</th>\n",
              "      <td>1</td>\n",
              "      <td>ALPHABET CITY</td>\n",
              "      <td>07 RENTALS - WALKUP APARTMENTS</td>\n",
              "      <td>2B</td>\n",
              "      <td>402</td>\n",
              "      <td>21</td>\n",
              "      <td>C4</td>\n",
              "      <td>154 EAST 7TH STREET</td>\n",
              "      <td></td>\n",
              "      <td>10009</td>\n",
              "      <td>10</td>\n",
              "      <td>0</td>\n",
              "      <td>10</td>\n",
              "      <td>2272.0</td>\n",
              "      <td>6794.0</td>\n",
              "      <td>1913</td>\n",
              "      <td>2</td>\n",
              "      <td>C4</td>\n",
              "      <td>3936272.0</td>\n",
              "    </tr>\n",
              "    <tr>\n",
              "      <th>4</th>\n",
              "      <td>1</td>\n",
              "      <td>ALPHABET CITY</td>\n",
              "      <td>07 RENTALS - WALKUP APARTMENTS</td>\n",
              "      <td>2A</td>\n",
              "      <td>404</td>\n",
              "      <td>55</td>\n",
              "      <td>C2</td>\n",
              "      <td>301 EAST 10TH   STREET</td>\n",
              "      <td></td>\n",
              "      <td>10009</td>\n",
              "      <td>6</td>\n",
              "      <td>0</td>\n",
              "      <td>6</td>\n",
              "      <td>2369.0</td>\n",
              "      <td>4615.0</td>\n",
              "      <td>1900</td>\n",
              "      <td>2</td>\n",
              "      <td>C2</td>\n",
              "      <td>8000000.0</td>\n",
              "    </tr>\n",
              "  </tbody>\n",
              "</table>\n",
              "</div>"
            ],
            "text/plain": [
              "  BOROUGH   NEIGHBORHOOD  ... BUILDING CLASS AT TIME OF SALE SALE PRICE\n",
              "0       1  ALPHABET CITY  ...                             C2  6625000.0\n",
              "1       1  ALPHABET CITY  ...                             C7        NaN\n",
              "2       1  ALPHABET CITY  ...                             C7        NaN\n",
              "3       1  ALPHABET CITY  ...                             C4  3936272.0\n",
              "4       1  ALPHABET CITY  ...                             C2  8000000.0\n",
              "\n",
              "[5 rows x 19 columns]"
            ]
          },
          "metadata": {
            "tags": []
          },
          "execution_count": 11
        }
      ]
    },
    {
      "cell_type": "code",
      "metadata": {
        "id": "qlsot61VcEK6",
        "colab_type": "code",
        "outputId": "b95b8d9f-fd72-46eb-dd43-7b745bfdb860",
        "colab": {
          "base_uri": "https://localhost:8080/",
          "height": 55
        }
      },
      "source": [
        "data.columns[data.isnull().any()]"
      ],
      "execution_count": 0,
      "outputs": [
        {
          "output_type": "execute_result",
          "data": {
            "text/plain": [
              "Index(['LAND SQUARE FEET', 'GROSS SQUARE FEET', 'SALE PRICE'], dtype='object')"
            ]
          },
          "metadata": {
            "tags": []
          },
          "execution_count": 12
        }
      ]
    },
    {
      "cell_type": "code",
      "metadata": {
        "id": "9FvFhLB5cI7Z",
        "colab_type": "code",
        "outputId": "d760e20f-f0de-4509-f601-778869518455",
        "colab": {
          "base_uri": "https://localhost:8080/",
          "height": 90
        }
      },
      "source": [
        "miss = data.isnull().sum() / len(data)\n",
        "miss = miss[miss>0]\n",
        "miss.sort_values(inplace=True)\n",
        "miss"
      ],
      "execution_count": 0,
      "outputs": [
        {
          "output_type": "execute_result",
          "data": {
            "text/plain": [
              "SALE PRICE           0.167196\n",
              "LAND SQUARE FEET     0.312213\n",
              "GROSS SQUARE FEET    0.327888\n",
              "dtype: float64"
            ]
          },
          "metadata": {
            "tags": []
          },
          "execution_count": 13
        }
      ]
    },
    {
      "cell_type": "code",
      "metadata": {
        "id": "2S9-1GVjcZce",
        "colab_type": "code",
        "outputId": "298e4e48-9cd9-40d0-f958-123edc48c71b",
        "colab": {
          "base_uri": "https://localhost:8080/",
          "height": 175
        }
      },
      "source": [
        "miss = miss.to_frame()\n",
        "miss.columns = ['count']\n",
        "miss.index.names = ['Name']\n",
        "miss['Name'] = miss.index\n",
        "miss"
      ],
      "execution_count": 0,
      "outputs": [
        {
          "output_type": "execute_result",
          "data": {
            "text/html": [
              "<div>\n",
              "<style scoped>\n",
              "    .dataframe tbody tr th:only-of-type {\n",
              "        vertical-align: middle;\n",
              "    }\n",
              "\n",
              "    .dataframe tbody tr th {\n",
              "        vertical-align: top;\n",
              "    }\n",
              "\n",
              "    .dataframe thead th {\n",
              "        text-align: right;\n",
              "    }\n",
              "</style>\n",
              "<table border=\"1\" class=\"dataframe\">\n",
              "  <thead>\n",
              "    <tr style=\"text-align: right;\">\n",
              "      <th></th>\n",
              "      <th>count</th>\n",
              "      <th>Name</th>\n",
              "    </tr>\n",
              "    <tr>\n",
              "      <th>Name</th>\n",
              "      <th></th>\n",
              "      <th></th>\n",
              "    </tr>\n",
              "  </thead>\n",
              "  <tbody>\n",
              "    <tr>\n",
              "      <th>SALE PRICE</th>\n",
              "      <td>0.167196</td>\n",
              "      <td>SALE PRICE</td>\n",
              "    </tr>\n",
              "    <tr>\n",
              "      <th>LAND SQUARE FEET</th>\n",
              "      <td>0.312213</td>\n",
              "      <td>LAND SQUARE FEET</td>\n",
              "    </tr>\n",
              "    <tr>\n",
              "      <th>GROSS SQUARE FEET</th>\n",
              "      <td>0.327888</td>\n",
              "      <td>GROSS SQUARE FEET</td>\n",
              "    </tr>\n",
              "  </tbody>\n",
              "</table>\n",
              "</div>"
            ],
            "text/plain": [
              "                      count               Name\n",
              "Name                                          \n",
              "SALE PRICE         0.167196         SALE PRICE\n",
              "LAND SQUARE FEET   0.312213   LAND SQUARE FEET\n",
              "GROSS SQUARE FEET  0.327888  GROSS SQUARE FEET"
            ]
          },
          "metadata": {
            "tags": []
          },
          "execution_count": 14
        }
      ]
    },
    {
      "cell_type": "code",
      "metadata": {
        "id": "pZfFxVN1ciSW",
        "colab_type": "code",
        "outputId": "56086c27-ab3b-4f0f-eca1-746f321a91bb",
        "colab": {
          "base_uri": "https://localhost:8080/",
          "height": 352
        }
      },
      "source": [
        "sns.barplot(x='Name', y='count', data=miss)\n",
        "plt.xticks(rotation=45)\n",
        "plt.show()"
      ],
      "execution_count": 0,
      "outputs": [
        {
          "output_type": "display_data",
          "data": {
            "image/png": "[encoded data removed]",
            "text/plain": [
              "<Figure size 432x288 with 1 Axes>"
            ]
          },
          "metadata": {
            "tags": []
          }
        }
      ]
    },
    {
      "cell_type": "code",
      "metadata": {
        "id": "rsEZZ2FBcrCT",
        "colab_type": "code",
        "colab": {}
      },
      "source": [
        "# Fill up the columns with mean values except for SALE PRICE, which we will predict the empty values\n",
        "\n",
        "data['LAND SQUARE FEET'] = data['LAND SQUARE FEET'].fillna(data['LAND SQUARE FEET'].mean())\n",
        "\n",
        "data['GROSS SQUARE FEET'] = data['GROSS SQUARE FEET'].fillna(data['GROSS SQUARE FEET'].mean())"
      ],
      "execution_count": 0,
      "outputs": []
    },
    {
      "cell_type": "code",
      "metadata": {
        "id": "pgEj16HPdD0I",
        "colab_type": "code",
        "colab": {}
      },
      "source": [
        "# Splitting dataset\n",
        "\n",
        "test = data[data['SALE PRICE'].isna()]\n",
        "data = data[~data['SALE PRICE'].isna()]"
      ],
      "execution_count": 0,
      "outputs": []
    },
    {
      "cell_type": "code",
      "metadata": {
        "id": "r4G5kzIbdfSp",
        "colab_type": "code",
        "outputId": "4f9c8510-cab3-4260-b5a1-0355b8491b32",
        "colab": {
          "base_uri": "https://localhost:8080/",
          "height": 35
        }
      },
      "source": [
        "test = test.drop(columns='SALE PRICE')\n",
        "test.shape"
      ],
      "execution_count": 0,
      "outputs": [
        {
          "output_type": "execute_result",
          "data": {
            "text/plain": [
              "(13909, 18)"
            ]
          },
          "metadata": {
            "tags": []
          },
          "execution_count": 18
        }
      ]
    },
    {
      "cell_type": "code",
      "metadata": {
        "id": "3TyMZ_HWdlVH",
        "colab_type": "code",
        "outputId": "e2a5891b-5754-4556-e747-4160e10b377f",
        "colab": {
          "base_uri": "https://localhost:8080/",
          "height": 556
        }
      },
      "source": [
        "test.head()"
      ],
      "execution_count": 0,
      "outputs": [
        {
          "output_type": "execute_result",
          "data": {
            "text/html": [
              "<div>\n",
              "<style scoped>\n",
              "    .dataframe tbody tr th:only-of-type {\n",
              "        vertical-align: middle;\n",
              "    }\n",
              "\n",
              "    .dataframe tbody tr th {\n",
              "        vertical-align: top;\n",
              "    }\n",
              "\n",
              "    .dataframe thead th {\n",
              "        text-align: right;\n",
              "    }\n",
              "</style>\n",
              "<table border=\"1\" class=\"dataframe\">\n",
              "  <thead>\n",
              "    <tr style=\"text-align: right;\">\n",
              "      <th></th>\n",
              "      <th>BOROUGH</th>\n",
              "      <th>NEIGHBORHOOD</th>\n",
              "      <th>BUILDING CLASS CATEGORY</th>\n",
              "      <th>TAX CLASS AT PRESENT</th>\n",
              "      <th>BLOCK</th>\n",
              "      <th>LOT</th>\n",
              "      <th>BUILDING CLASS AT PRESENT</th>\n",
              "      <th>ADDRESS</th>\n",
              "      <th>APARTMENT NUMBER</th>\n",
              "      <th>ZIP CODE</th>\n",
              "      <th>RESIDENTIAL UNITS</th>\n",
              "      <th>COMMERCIAL UNITS</th>\n",
              "      <th>TOTAL UNITS</th>\n",
              "      <th>LAND SQUARE FEET</th>\n",
              "      <th>GROSS SQUARE FEET</th>\n",
              "      <th>YEAR BUILT</th>\n",
              "      <th>TAX CLASS AT TIME OF SALE</th>\n",
              "      <th>BUILDING CLASS AT TIME OF SALE</th>\n",
              "    </tr>\n",
              "  </thead>\n",
              "  <tbody>\n",
              "    <tr>\n",
              "      <th>1</th>\n",
              "      <td>1</td>\n",
              "      <td>ALPHABET CITY</td>\n",
              "      <td>07 RENTALS - WALKUP APARTMENTS</td>\n",
              "      <td>2</td>\n",
              "      <td>399</td>\n",
              "      <td>26</td>\n",
              "      <td>C7</td>\n",
              "      <td>234 EAST 4TH   STREET</td>\n",
              "      <td></td>\n",
              "      <td>10009</td>\n",
              "      <td>28</td>\n",
              "      <td>3</td>\n",
              "      <td>31</td>\n",
              "      <td>4616.0</td>\n",
              "      <td>18690.0</td>\n",
              "      <td>1900</td>\n",
              "      <td>2</td>\n",
              "      <td>C7</td>\n",
              "    </tr>\n",
              "    <tr>\n",
              "      <th>2</th>\n",
              "      <td>1</td>\n",
              "      <td>ALPHABET CITY</td>\n",
              "      <td>07 RENTALS - WALKUP APARTMENTS</td>\n",
              "      <td>2</td>\n",
              "      <td>399</td>\n",
              "      <td>39</td>\n",
              "      <td>C7</td>\n",
              "      <td>197 EAST 3RD   STREET</td>\n",
              "      <td></td>\n",
              "      <td>10009</td>\n",
              "      <td>16</td>\n",
              "      <td>1</td>\n",
              "      <td>17</td>\n",
              "      <td>2212.0</td>\n",
              "      <td>7803.0</td>\n",
              "      <td>1900</td>\n",
              "      <td>2</td>\n",
              "      <td>C7</td>\n",
              "    </tr>\n",
              "    <tr>\n",
              "      <th>5</th>\n",
              "      <td>1</td>\n",
              "      <td>ALPHABET CITY</td>\n",
              "      <td>07 RENTALS - WALKUP APARTMENTS</td>\n",
              "      <td>2</td>\n",
              "      <td>405</td>\n",
              "      <td>16</td>\n",
              "      <td>C4</td>\n",
              "      <td>516 EAST 12TH   STREET</td>\n",
              "      <td></td>\n",
              "      <td>10009</td>\n",
              "      <td>20</td>\n",
              "      <td>0</td>\n",
              "      <td>20</td>\n",
              "      <td>2581.0</td>\n",
              "      <td>9730.0</td>\n",
              "      <td>1900</td>\n",
              "      <td>2</td>\n",
              "      <td>C4</td>\n",
              "    </tr>\n",
              "    <tr>\n",
              "      <th>7</th>\n",
              "      <td>1</td>\n",
              "      <td>ALPHABET CITY</td>\n",
              "      <td>07 RENTALS - WALKUP APARTMENTS</td>\n",
              "      <td>2</td>\n",
              "      <td>407</td>\n",
              "      <td>18</td>\n",
              "      <td>C7</td>\n",
              "      <td>520 EAST 14TH   STREET</td>\n",
              "      <td></td>\n",
              "      <td>10009</td>\n",
              "      <td>44</td>\n",
              "      <td>2</td>\n",
              "      <td>46</td>\n",
              "      <td>5163.0</td>\n",
              "      <td>21007.0</td>\n",
              "      <td>1900</td>\n",
              "      <td>2</td>\n",
              "      <td>C7</td>\n",
              "    </tr>\n",
              "    <tr>\n",
              "      <th>8</th>\n",
              "      <td>1</td>\n",
              "      <td>ALPHABET CITY</td>\n",
              "      <td>08 RENTALS - ELEVATOR APARTMENTS</td>\n",
              "      <td>2</td>\n",
              "      <td>379</td>\n",
              "      <td>34</td>\n",
              "      <td>D5</td>\n",
              "      <td>141 AVENUE D</td>\n",
              "      <td></td>\n",
              "      <td>10009</td>\n",
              "      <td>15</td>\n",
              "      <td>0</td>\n",
              "      <td>15</td>\n",
              "      <td>1534.0</td>\n",
              "      <td>9198.0</td>\n",
              "      <td>1920</td>\n",
              "      <td>2</td>\n",
              "      <td>D5</td>\n",
              "    </tr>\n",
              "  </tbody>\n",
              "</table>\n",
              "</div>"
            ],
            "text/plain": [
              "  BOROUGH  ... BUILDING CLASS AT TIME OF SALE\n",
              "1       1  ...                             C7\n",
              "2       1  ...                             C7\n",
              "5       1  ...                             C4\n",
              "7       1  ...                             C7\n",
              "8       1  ...                             D5\n",
              "\n",
              "[5 rows x 18 columns]"
            ]
          },
          "metadata": {
            "tags": []
          },
          "execution_count": 19
        }
      ]
    },
    {
      "cell_type": "code",
      "metadata": {
        "id": "T_Xs-mr7dmex",
        "colab_type": "code",
        "outputId": "febfc9e5-8f57-4c63-d9da-ae3552f26a55",
        "colab": {
          "base_uri": "https://localhost:8080/",
          "height": 35
        }
      },
      "source": [
        "data.shape"
      ],
      "execution_count": 0,
      "outputs": [
        {
          "output_type": "execute_result",
          "data": {
            "text/plain": [
              "(69281, 19)"
            ]
          },
          "metadata": {
            "tags": []
          },
          "execution_count": 20
        }
      ]
    },
    {
      "cell_type": "code",
      "metadata": {
        "id": "oEGe7PXadqcU",
        "colab_type": "code",
        "outputId": "db9cf003-67af-43e8-a8ab-b17a85a166e3",
        "colab": {
          "base_uri": "https://localhost:8080/",
          "height": 366
        }
      },
      "source": [
        "corr = data.corr()\n",
        "sns.heatmap(corr)\n",
        "plt.show()"
      ],
      "execution_count": 0,
      "outputs": [
        {
          "output_type": "display_data",
          "data": {
            "image/png": "[encoded data removed]",
            "text/plain": [
              "<Figure size 432x288 with 2 Axes>"
            ]
          },
          "metadata": {
            "tags": []
          }
        }
      ]
    },
    {
      "cell_type": "code",
      "metadata": {
        "id": "jUX3UwE6dwFh",
        "colab_type": "code",
        "outputId": "b0d09552-b42a-4800-ee5f-2232c03e36b2",
        "colab": {
          "base_uri": "https://localhost:8080/",
          "height": 217
        }
      },
      "source": [
        "# We look at the last row to see the correlation of different features with SALE PRICE\n",
        "\n",
        "corr['SALE PRICE'].sort_values(ascending=False)\n"
      ],
      "execution_count": 0,
      "outputs": [
        {
          "output_type": "execute_result",
          "data": {
            "text/plain": [
              "SALE PRICE           1.000000\n",
              "GROSS SQUARE FEET    0.449913\n",
              "TOTAL UNITS          0.126654\n",
              "RESIDENTIAL UNITS    0.122566\n",
              "LAND SQUARE FEET     0.060143\n",
              "COMMERCIAL UNITS     0.044535\n",
              "LOT                  0.012266\n",
              "YEAR BUILT          -0.003779\n",
              "ZIP CODE            -0.034110\n",
              "BLOCK               -0.061357\n",
              "Name: SALE PRICE, dtype: float64"
            ]
          },
          "metadata": {
            "tags": []
          },
          "execution_count": 22
        }
      ]
    },
    {
      "cell_type": "code",
      "metadata": {
        "id": "p5NXPQa5kBwQ",
        "colab_type": "code",
        "outputId": "56b59ac2-21c4-402f-d60d-34e21ea1d4de",
        "colab": {
          "base_uri": "https://localhost:8080/",
          "height": 424
        }
      },
      "source": [
        "# Box plot of SALE PRICE\n",
        "\n",
        "plt.figure(figsize=(15, 6))\n",
        "\n",
        "sns.boxplot(x='SALE PRICE', data=data)\n",
        "plt.ticklabel_format(style='plain', axis='x')\n",
        "plt.title('Boxplot of SALE PRICE in USD')\n",
        "plt.show()"
      ],
      "execution_count": 0,
      "outputs": [
        {
          "output_type": "display_data",
          "data": {
            "image/png": "[encoded data removed]",
            "text/plain": [
              "<Figure size 1080x432 with 1 Axes>"
            ]
          },
          "metadata": {
            "tags": []
          }
        }
      ]
    },
    {
      "cell_type": "code",
      "metadata": {
        "id": "kX1C5XiPkLzq",
        "colab_type": "code",
        "outputId": "fc719aa4-8f08-4c4d-c40a-036bf9651c1e",
        "colab": {
          "base_uri": "https://localhost:8080/",
          "height": 308
        }
      },
      "source": [
        "sns.distplot(data['SALE PRICE'])"
      ],
      "execution_count": 0,
      "outputs": [
        {
          "output_type": "execute_result",
          "data": {
            "text/plain": [
              "<matplotlib.axes._subplots.AxesSubplot at 0x7fd8f721f438>"
            ]
          },
          "metadata": {
            "tags": []
          },
          "execution_count": 25
        },
        {
          "output_type": "display_data",
          "data": {
            "image/png": "[encoded data removed]",
            "text/plain": [
              "<Figure size 432x288 with 1 Axes>"
            ]
          },
          "metadata": {
            "tags": []
          }
        }
      ]
    },
    {
      "cell_type": "code",
      "metadata": {
        "id": "4kfu4I_6kYnY",
        "colab_type": "code",
        "colab": {}
      },
      "source": [
        "# Remove observations that fall outside the caps\n",
        "\n",
        "data = data[(data['SALE PRICE'] > 100000) & (data['SALE PRICE'] < 5000000)]"
      ],
      "execution_count": 0,
      "outputs": []
    },
    {
      "cell_type": "code",
      "metadata": {
        "id": "aojq6RWOlLl6",
        "colab_type": "code",
        "outputId": "06ae9121-07c6-40b1-8d17-8925d7579739",
        "colab": {
          "base_uri": "https://localhost:8080/",
          "height": 297
        }
      },
      "source": [
        "sns.distplot(data['SALE PRICE'])"
      ],
      "execution_count": 0,
      "outputs": [
        {
          "output_type": "execute_result",
          "data": {
            "text/plain": [
              "<matplotlib.axes._subplots.AxesSubplot at 0x7fd8f7146b00>"
            ]
          },
          "metadata": {
            "tags": []
          },
          "execution_count": 27
        },
        {
          "output_type": "display_data",
          "data": {
            "image/png": "[encoded data removed]",
            "text/plain": [
              "<Figure size 432x288 with 1 Axes>"
            ]
          },
          "metadata": {
            "tags": []
          }
        }
      ]
    },
    {
      "cell_type": "code",
      "metadata": {
        "id": "Fspn4g3JlN5L",
        "colab_type": "code",
        "outputId": "91a7163f-84c0-492e-b92a-0388c04a3a4b",
        "colab": {
          "base_uri": "https://localhost:8080/",
          "height": 35
        }
      },
      "source": [
        "# Let's check the skewness of the SALE PRICE\n",
        "\n",
        "data['SALE PRICE'].skew()"
      ],
      "execution_count": 0,
      "outputs": [
        {
          "output_type": "execute_result",
          "data": {
            "text/plain": [
              "2.3437455096169386"
            ]
          },
          "metadata": {
            "tags": []
          },
          "execution_count": 28
        }
      ]
    },
    {
      "cell_type": "code",
      "metadata": {
        "id": "VPcJGlJslYMF",
        "colab_type": "code",
        "outputId": "2b306f4e-a317-4d50-ec88-7c2e8ecb28aa",
        "colab": {
          "base_uri": "https://localhost:8080/",
          "height": 35
        }
      },
      "source": [
        "# Very highly right-skewed, so we will log transform it\n",
        "\n",
        "sales = np.log(data['SALE PRICE'])\n",
        "sales.skew()"
      ],
      "execution_count": 0,
      "outputs": [
        {
          "output_type": "execute_result",
          "data": {
            "text/plain": [
              "0.19896303705046872"
            ]
          },
          "metadata": {
            "tags": []
          },
          "execution_count": 29
        }
      ]
    },
    {
      "cell_type": "code",
      "metadata": {
        "id": "YT7lQD9qlhdG",
        "colab_type": "code",
        "outputId": "4ba9ff34-a392-4629-8203-4bec1e41e6d5",
        "colab": {
          "base_uri": "https://localhost:8080/",
          "height": 297
        }
      },
      "source": [
        "sns.distplot(sales)"
      ],
      "execution_count": 0,
      "outputs": [
        {
          "output_type": "execute_result",
          "data": {
            "text/plain": [
              "<matplotlib.axes._subplots.AxesSubplot at 0x7fd8f7104a20>"
            ]
          },
          "metadata": {
            "tags": []
          },
          "execution_count": 30
        },
        {
          "output_type": "display_data",
          "data": {
            "image/png": "[encoded data removed]",
            "text/plain": [
              "<Figure size 432x288 with 1 Axes>"
            ]
          },
          "metadata": {
            "tags": []
          }
        }
      ]
    },
    {
      "cell_type": "code",
      "metadata": {
        "id": "NWUXE9BPljBF",
        "colab_type": "code",
        "colab": {}
      },
      "source": [
        "# It is symmetrical now, thus normalized"
      ],
      "execution_count": 0,
      "outputs": []
    },
    {
      "cell_type": "markdown",
      "metadata": {
        "id": "iEANQD9Rl91-",
        "colab_type": "text"
      },
      "source": [
        "----------------------------"
      ]
    },
    {
      "cell_type": "code",
      "metadata": {
        "id": "yYQl9C0Sl8uv",
        "colab_type": "code",
        "outputId": "225355ab-4a5b-46ea-bc4a-f1601a73984e",
        "colab": {
          "base_uri": "https://localhost:8080/",
          "height": 406
        }
      },
      "source": [
        "# Visualizing numerical data\n",
        "\n",
        "plt.figure(figsize=(10, 6))\n",
        "sns.boxplot(x='GROSS SQUARE FEET', data=data, showfliers=False)"
      ],
      "execution_count": 0,
      "outputs": [
        {
          "output_type": "execute_result",
          "data": {
            "text/plain": [
              "<matplotlib.axes._subplots.AxesSubplot at 0x7fd8f6d14860>"
            ]
          },
          "metadata": {
            "tags": []
          },
          "execution_count": 33
        },
        {
          "output_type": "display_data",
          "data": {
            "image/png": "[encoded data removed]",
            "text/plain": [
              "<Figure size 720x432 with 1 Axes>"
            ]
          },
          "metadata": {
            "tags": []
          }
        }
      ]
    },
    {
      "cell_type": "code",
      "metadata": {
        "id": "9JQ-N5ZHmG6P",
        "colab_type": "code",
        "outputId": "b66da06c-511b-434a-bcd4-0188d1829941",
        "colab": {
          "base_uri": "https://localhost:8080/",
          "height": 406
        }
      },
      "source": [
        "plt.figure(figsize=(10, 6))\n",
        "sns.boxplot(x='LAND SQUARE FEET', data=data, showfliers=False)"
      ],
      "execution_count": 0,
      "outputs": [
        {
          "output_type": "execute_result",
          "data": {
            "text/plain": [
              "<matplotlib.axes._subplots.AxesSubplot at 0x7fd8f6d7dd68>"
            ]
          },
          "metadata": {
            "tags": []
          },
          "execution_count": 34
        },
        {
          "output_type": "display_data",
          "data": {
            "image/png": "[encoded data removed]",
            "text/plain": [
              "<Figure size 720x432 with 1 Axes>"
            ]
          },
          "metadata": {
            "tags": []
          }
        }
      ]
    },
    {
      "cell_type": "code",
      "metadata": {
        "id": "M2XyHXSuokcM",
        "colab_type": "code",
        "colab": {}
      },
      "source": [
        "data = data[data['GROSS SQUARE FEET'] < 10000]\n",
        "data = data[data['LAND SQUARE FEET'] < 10000]"
      ],
      "execution_count": 0,
      "outputs": []
    },
    {
      "cell_type": "code",
      "metadata": {
        "id": "kDOR60DCpWSs",
        "colab_type": "code",
        "outputId": "15c37064-46c1-4bcb-aaaa-9b22021f587a",
        "colab": {
          "base_uri": "https://localhost:8080/",
          "height": 426
        }
      },
      "source": [
        "plt.figure(figsize=(10, 6))\n",
        "sns.regplot(x='GROSS SQUARE FEET', y='SALE PRICE', data=data, fit_reg=False, scatter_kws={'alpha':0.3})"
      ],
      "execution_count": 0,
      "outputs": [
        {
          "output_type": "execute_result",
          "data": {
            "text/plain": [
              "<matplotlib.axes._subplots.AxesSubplot at 0x7fd8f6c3d320>"
            ]
          },
          "metadata": {
            "tags": []
          },
          "execution_count": 36
        },
        {
          "output_type": "display_data",
          "data": {
            "image/png": "[encoded data removed]",
            "text/plain": [
              "<Figure size 720x432 with 1 Axes>"
            ]
          },
          "metadata": {
            "tags": []
          }
        }
      ]
    },
    {
      "cell_type": "code",
      "metadata": {
        "id": "GbHkT68Hp0V1",
        "colab_type": "code",
        "outputId": "d849a61f-bddb-463d-959b-c4f7314b7e90",
        "colab": {
          "base_uri": "https://localhost:8080/",
          "height": 426
        }
      },
      "source": [
        "plt.figure(figsize=(10, 6))\n",
        "sns.regplot(x='LAND SQUARE FEET', y='SALE PRICE', data=data, fit_reg=False, scatter_kws={'alpha':0.3})"
      ],
      "execution_count": 0,
      "outputs": [
        {
          "output_type": "execute_result",
          "data": {
            "text/plain": [
              "<matplotlib.axes._subplots.AxesSubplot at 0x7fd8fb848908>"
            ]
          },
          "metadata": {
            "tags": []
          },
          "execution_count": 37
        },
        {
          "output_type": "display_data",
          "data": {
            "image/png": "[encoded data removed]",
            "text/plain": [
              "<Figure size 720x432 with 1 Axes>"
            ]
          },
          "metadata": {
            "tags": []
          }
        }
      ]
    },
    {
      "cell_type": "code",
      "metadata": {
        "id": "Ycw2cusxqMCG",
        "colab_type": "code",
        "outputId": "2ae012c6-cc9b-4db4-d3fe-610f43507651",
        "colab": {
          "base_uri": "https://localhost:8080/",
          "height": 708
        }
      },
      "source": [
        "# Total units\n",
        "\n",
        "data[['TOTAL UNITS', 'SALE PRICE']].groupby(['TOTAL UNITS'], as_index=False).count().sort_values(by='SALE PRICE', ascending=False)"
      ],
      "execution_count": 0,
      "outputs": [
        {
          "output_type": "execute_result",
          "data": {
            "text/html": [
              "<div>\n",
              "<style scoped>\n",
              "    .dataframe tbody tr th:only-of-type {\n",
              "        vertical-align: middle;\n",
              "    }\n",
              "\n",
              "    .dataframe tbody tr th {\n",
              "        vertical-align: top;\n",
              "    }\n",
              "\n",
              "    .dataframe thead th {\n",
              "        text-align: right;\n",
              "    }\n",
              "</style>\n",
              "<table border=\"1\" class=\"dataframe\">\n",
              "  <thead>\n",
              "    <tr style=\"text-align: right;\">\n",
              "      <th></th>\n",
              "      <th>TOTAL UNITS</th>\n",
              "      <th>SALE PRICE</th>\n",
              "    </tr>\n",
              "  </thead>\n",
              "  <tbody>\n",
              "    <tr>\n",
              "      <th>1</th>\n",
              "      <td>1</td>\n",
              "      <td>24570</td>\n",
              "    </tr>\n",
              "    <tr>\n",
              "      <th>0</th>\n",
              "      <td>0</td>\n",
              "      <td>15489</td>\n",
              "    </tr>\n",
              "    <tr>\n",
              "      <th>2</th>\n",
              "      <td>2</td>\n",
              "      <td>9473</td>\n",
              "    </tr>\n",
              "    <tr>\n",
              "      <th>3</th>\n",
              "      <td>3</td>\n",
              "      <td>2720</td>\n",
              "    </tr>\n",
              "    <tr>\n",
              "      <th>4</th>\n",
              "      <td>4</td>\n",
              "      <td>695</td>\n",
              "    </tr>\n",
              "    <tr>\n",
              "      <th>6</th>\n",
              "      <td>6</td>\n",
              "      <td>360</td>\n",
              "    </tr>\n",
              "    <tr>\n",
              "      <th>5</th>\n",
              "      <td>5</td>\n",
              "      <td>170</td>\n",
              "    </tr>\n",
              "    <tr>\n",
              "      <th>8</th>\n",
              "      <td>8</td>\n",
              "      <td>133</td>\n",
              "    </tr>\n",
              "    <tr>\n",
              "      <th>7</th>\n",
              "      <td>7</td>\n",
              "      <td>70</td>\n",
              "    </tr>\n",
              "    <tr>\n",
              "      <th>9</th>\n",
              "      <td>9</td>\n",
              "      <td>56</td>\n",
              "    </tr>\n",
              "    <tr>\n",
              "      <th>10</th>\n",
              "      <td>10</td>\n",
              "      <td>44</td>\n",
              "    </tr>\n",
              "    <tr>\n",
              "      <th>12</th>\n",
              "      <td>12</td>\n",
              "      <td>16</td>\n",
              "    </tr>\n",
              "    <tr>\n",
              "      <th>11</th>\n",
              "      <td>11</td>\n",
              "      <td>9</td>\n",
              "    </tr>\n",
              "    <tr>\n",
              "      <th>16</th>\n",
              "      <td>16</td>\n",
              "      <td>9</td>\n",
              "    </tr>\n",
              "    <tr>\n",
              "      <th>14</th>\n",
              "      <td>14</td>\n",
              "      <td>5</td>\n",
              "    </tr>\n",
              "    <tr>\n",
              "      <th>15</th>\n",
              "      <td>15</td>\n",
              "      <td>5</td>\n",
              "    </tr>\n",
              "    <tr>\n",
              "      <th>13</th>\n",
              "      <td>13</td>\n",
              "      <td>4</td>\n",
              "    </tr>\n",
              "    <tr>\n",
              "      <th>17</th>\n",
              "      <td>18</td>\n",
              "      <td>1</td>\n",
              "    </tr>\n",
              "    <tr>\n",
              "      <th>18</th>\n",
              "      <td>19</td>\n",
              "      <td>1</td>\n",
              "    </tr>\n",
              "    <tr>\n",
              "      <th>19</th>\n",
              "      <td>20</td>\n",
              "      <td>1</td>\n",
              "    </tr>\n",
              "    <tr>\n",
              "      <th>20</th>\n",
              "      <td>2261</td>\n",
              "      <td>1</td>\n",
              "    </tr>\n",
              "  </tbody>\n",
              "</table>\n",
              "</div>"
            ],
            "text/plain": [
              "    TOTAL UNITS  SALE PRICE\n",
              "1             1       24570\n",
              "0             0       15489\n",
              "2             2        9473\n",
              "3             3        2720\n",
              "4             4         695\n",
              "6             6         360\n",
              "5             5         170\n",
              "8             8         133\n",
              "7             7          70\n",
              "9             9          56\n",
              "10           10          44\n",
              "12           12          16\n",
              "11           11           9\n",
              "16           16           9\n",
              "14           14           5\n",
              "15           15           5\n",
              "13           13           4\n",
              "17           18           1\n",
              "18           19           1\n",
              "19           20           1\n",
              "20         2261           1"
            ]
          },
          "metadata": {
            "tags": []
          },
          "execution_count": 38
        }
      ]
    },
    {
      "cell_type": "code",
      "metadata": {
        "id": "0RYiNNojqai1",
        "colab_type": "code",
        "colab": {}
      },
      "source": [
        "# Removing rows with Total Units == 0 and one outlier with 2261 units\n",
        "\n",
        "data = data[(data['TOTAL UNITS'] > 0) & (data['TOTAL UNITS'] != 2261)]"
      ],
      "execution_count": 0,
      "outputs": []
    },
    {
      "cell_type": "code",
      "metadata": {
        "id": "sgODTT0BrCRa",
        "colab_type": "code",
        "outputId": "94af14ba-c0bc-4a66-f939-7b3660c0fbb7",
        "colab": {
          "base_uri": "https://localhost:8080/",
          "height": 424
        }
      },
      "source": [
        "plt.figure(figsize=(10, 6))\n",
        "sns.boxplot(x='TOTAL UNITS', y='SALE PRICE', data=data)\n",
        "plt.title('Total Units vs Sale Price')\n",
        "plt.show()"
      ],
      "execution_count": 0,
      "outputs": [
        {
          "output_type": "display_data",
          "data": {
            "image/png": "[encoded data removed]",
            "text/plain": [
              "<Figure size 720x432 with 1 Axes>"
            ]
          },
          "metadata": {
            "tags": []
          }
        }
      ]
    },
    {
      "cell_type": "code",
      "metadata": {
        "id": "6Ppi9FI_rOSV",
        "colab_type": "code",
        "outputId": "9232ea06-2833-4e92-e797-3042fb7c827e",
        "colab": {
          "base_uri": "https://localhost:8080/",
          "height": 424
        }
      },
      "source": [
        "plt.figure(figsize=(10, 6))\n",
        "sns.boxplot(x='COMMERCIAL UNITS', y='SALE PRICE', data=data)\n",
        "plt.title('Commercial Units vs Sale Price')\n",
        "plt.show()"
      ],
      "execution_count": 0,
      "outputs": [
        {
          "output_type": "display_data",
          "data": {
            "image/png": "[encoded data removed]",
            "text/plain": [
              "<Figure size 720x432 with 1 Axes>"
            ]
          },
          "metadata": {
            "tags": []
          }
        }
      ]
    },
    {
      "cell_type": "code",
      "metadata": {
        "id": "mYWMFyMPr2J2",
        "colab_type": "code",
        "outputId": "c6658e43-e5a9-45f0-f14b-6dc01a22cf56",
        "colab": {
          "base_uri": "https://localhost:8080/",
          "height": 424
        }
      },
      "source": [
        "plt.figure(figsize=(10, 6))\n",
        "sns.boxplot(x='RESIDENTIAL UNITS', y='SALE PRICE', data=data)\n",
        "plt.title('Residential Units vs Sale Price')\n",
        "plt.show()"
      ],
      "execution_count": 0,
      "outputs": [
        {
          "output_type": "display_data",
          "data": {
            "image/png": "[encoded data removed]",
            "text/plain": [
              "<Figure size 720x432 with 1 Axes>"
            ]
          },
          "metadata": {
            "tags": []
          }
        }
      ]
    },
    {
      "cell_type": "markdown",
      "metadata": {
        "id": "oD7keNbvstBM",
        "colab_type": "text"
      },
      "source": [
        "-----------------"
      ]
    },
    {
      "cell_type": "markdown",
      "metadata": {
        "id": "Pq6QicBLsuY8",
        "colab_type": "text"
      },
      "source": [
        "Let's visualize Categorical data"
      ]
    },
    {
      "cell_type": "code",
      "metadata": {
        "id": "skffWxFNsIPS",
        "colab_type": "code",
        "outputId": "75345fd0-3f01-48ad-cef1-ff3188cd2228",
        "colab": {
          "base_uri": "https://localhost:8080/",
          "height": 316
        }
      },
      "source": [
        "cat_data = data.select_dtypes(exclude=[np.number])\n",
        "cat_data.describe()"
      ],
      "execution_count": 0,
      "outputs": [
        {
          "output_type": "execute_result",
          "data": {
            "text/html": [
              "<div>\n",
              "<style scoped>\n",
              "    .dataframe tbody tr th:only-of-type {\n",
              "        vertical-align: middle;\n",
              "    }\n",
              "\n",
              "    .dataframe tbody tr th {\n",
              "        vertical-align: top;\n",
              "    }\n",
              "\n",
              "    .dataframe thead th {\n",
              "        text-align: right;\n",
              "    }\n",
              "</style>\n",
              "<table border=\"1\" class=\"dataframe\">\n",
              "  <thead>\n",
              "    <tr style=\"text-align: right;\">\n",
              "      <th></th>\n",
              "      <th>BOROUGH</th>\n",
              "      <th>NEIGHBORHOOD</th>\n",
              "      <th>BUILDING CLASS CATEGORY</th>\n",
              "      <th>TAX CLASS AT PRESENT</th>\n",
              "      <th>BUILDING CLASS AT PRESENT</th>\n",
              "      <th>ADDRESS</th>\n",
              "      <th>APARTMENT NUMBER</th>\n",
              "      <th>TAX CLASS AT TIME OF SALE</th>\n",
              "      <th>BUILDING CLASS AT TIME OF SALE</th>\n",
              "    </tr>\n",
              "  </thead>\n",
              "  <tbody>\n",
              "    <tr>\n",
              "      <th>count</th>\n",
              "      <td>38342</td>\n",
              "      <td>38342</td>\n",
              "      <td>38342</td>\n",
              "      <td>38342</td>\n",
              "      <td>38342</td>\n",
              "      <td>38342</td>\n",
              "      <td>38342</td>\n",
              "      <td>38342</td>\n",
              "      <td>38342</td>\n",
              "    </tr>\n",
              "    <tr>\n",
              "      <th>unique</th>\n",
              "      <td>5</td>\n",
              "      <td>247</td>\n",
              "      <td>36</td>\n",
              "      <td>9</td>\n",
              "      <td>104</td>\n",
              "      <td>30426</td>\n",
              "      <td>2642</td>\n",
              "      <td>3</td>\n",
              "      <td>104</td>\n",
              "    </tr>\n",
              "    <tr>\n",
              "      <th>top</th>\n",
              "      <td>4</td>\n",
              "      <td>FLUSHING-NORTH</td>\n",
              "      <td>01 ONE FAMILY DWELLINGS</td>\n",
              "      <td>1</td>\n",
              "      <td>R4</td>\n",
              "      <td>131-05 40TH   ROAD</td>\n",
              "      <td></td>\n",
              "      <td>1</td>\n",
              "      <td>R4</td>\n",
              "    </tr>\n",
              "    <tr>\n",
              "      <th>freq</th>\n",
              "      <td>12599</td>\n",
              "      <td>1674</td>\n",
              "      <td>12215</td>\n",
              "      <td>23977</td>\n",
              "      <td>8918</td>\n",
              "      <td>209</td>\n",
              "      <td>26395</td>\n",
              "      <td>25206</td>\n",
              "      <td>8922</td>\n",
              "    </tr>\n",
              "  </tbody>\n",
              "</table>\n",
              "</div>"
            ],
            "text/plain": [
              "        BOROUGH  ... BUILDING CLASS AT TIME OF SALE\n",
              "count     38342  ...                          38342\n",
              "unique        5  ...                            104\n",
              "top           4  ...                             R4\n",
              "freq      12599  ...                           8922\n",
              "\n",
              "[4 rows x 9 columns]"
            ]
          },
          "metadata": {
            "tags": []
          },
          "execution_count": 43
        }
      ]
    },
    {
      "cell_type": "code",
      "metadata": {
        "id": "h4wQX7ygs1Ou",
        "colab_type": "code",
        "outputId": "999e2a60-45d9-4f93-8a34-79c79639b957",
        "colab": {
          "base_uri": "https://localhost:8080/",
          "height": 53
        }
      },
      "source": [
        "# Tax Class at present\n",
        "\n",
        "data['TAX CLASS AT PRESENT'].unique()"
      ],
      "execution_count": 0,
      "outputs": [
        {
          "output_type": "execute_result",
          "data": {
            "text/plain": [
              "[2B, 2, 2A, 2C, 4, 1C, 1, 1A, 1B]\n",
              "Categories (9, object): [2B, 2, 2A, 2C, ..., 1C, 1, 1A, 1B]"
            ]
          },
          "metadata": {
            "tags": []
          },
          "execution_count": 44
        }
      ]
    },
    {
      "cell_type": "code",
      "metadata": {
        "id": "ZKH2jeP8s7kB",
        "colab_type": "code",
        "outputId": "9cddfd3a-2386-4c28-bb4b-a049b437af01",
        "colab": {
          "base_uri": "https://localhost:8080/",
          "height": 363
        }
      },
      "source": [
        "pivot = data.pivot_table(index='TAX CLASS AT PRESENT', values='SALE PRICE', aggfunc=np.median)\n",
        "\n",
        "pivot"
      ],
      "execution_count": 0,
      "outputs": [
        {
          "output_type": "execute_result",
          "data": {
            "text/html": [
              "<div>\n",
              "<style scoped>\n",
              "    .dataframe tbody tr th:only-of-type {\n",
              "        vertical-align: middle;\n",
              "    }\n",
              "\n",
              "    .dataframe tbody tr th {\n",
              "        vertical-align: top;\n",
              "    }\n",
              "\n",
              "    .dataframe thead th {\n",
              "        text-align: right;\n",
              "    }\n",
              "</style>\n",
              "<table border=\"1\" class=\"dataframe\">\n",
              "  <thead>\n",
              "    <tr style=\"text-align: right;\">\n",
              "      <th></th>\n",
              "      <th>SALE PRICE</th>\n",
              "    </tr>\n",
              "    <tr>\n",
              "      <th>TAX CLASS AT PRESENT</th>\n",
              "      <th></th>\n",
              "    </tr>\n",
              "  </thead>\n",
              "  <tbody>\n",
              "    <tr>\n",
              "      <th>1</th>\n",
              "      <td>594000.0</td>\n",
              "    </tr>\n",
              "    <tr>\n",
              "      <th>1A</th>\n",
              "      <td>390000.0</td>\n",
              "    </tr>\n",
              "    <tr>\n",
              "      <th>1B</th>\n",
              "      <td>640606.5</td>\n",
              "    </tr>\n",
              "    <tr>\n",
              "      <th>1C</th>\n",
              "      <td>958668.0</td>\n",
              "    </tr>\n",
              "    <tr>\n",
              "      <th>2</th>\n",
              "      <td>980000.0</td>\n",
              "    </tr>\n",
              "    <tr>\n",
              "      <th>2A</th>\n",
              "      <td>1200000.0</td>\n",
              "    </tr>\n",
              "    <tr>\n",
              "      <th>2B</th>\n",
              "      <td>1847500.0</td>\n",
              "    </tr>\n",
              "    <tr>\n",
              "      <th>2C</th>\n",
              "      <td>835000.0</td>\n",
              "    </tr>\n",
              "    <tr>\n",
              "      <th>4</th>\n",
              "      <td>1050000.0</td>\n",
              "    </tr>\n",
              "  </tbody>\n",
              "</table>\n",
              "</div>"
            ],
            "text/plain": [
              "                      SALE PRICE\n",
              "TAX CLASS AT PRESENT            \n",
              "1                       594000.0\n",
              "1A                      390000.0\n",
              "1B                      640606.5\n",
              "1C                      958668.0\n",
              "2                       980000.0\n",
              "2A                     1200000.0\n",
              "2B                     1847500.0\n",
              "2C                      835000.0\n",
              "4                      1050000.0"
            ]
          },
          "metadata": {
            "tags": []
          },
          "execution_count": 45
        }
      ]
    },
    {
      "cell_type": "code",
      "metadata": {
        "id": "tCBNF-xbtGp0",
        "colab_type": "code",
        "outputId": "0fd8f5e9-ea07-4928-f099-77ef209d15a6",
        "colab": {
          "base_uri": "https://localhost:8080/",
          "height": 301
        }
      },
      "source": [
        "pivot.plot(kind='bar', color='black')"
      ],
      "execution_count": 0,
      "outputs": [
        {
          "output_type": "execute_result",
          "data": {
            "text/plain": [
              "<matplotlib.axes._subplots.AxesSubplot at 0x7fd8f65c7390>"
            ]
          },
          "metadata": {
            "tags": []
          },
          "execution_count": 46
        },
        {
          "output_type": "display_data",
          "data": {
            "image/png": "[encoded data removed]",
            "text/plain": [
              "<Figure size 432x288 with 1 Axes>"
            ]
          },
          "metadata": {
            "tags": []
          }
        }
      ]
    },
    {
      "cell_type": "code",
      "metadata": {
        "id": "m1KZiayCtMPt",
        "colab_type": "code",
        "outputId": "f3977bfd-3b04-4b76-af76-71ab64b2b326",
        "colab": {
          "base_uri": "https://localhost:8080/",
          "height": 53
        }
      },
      "source": [
        "# Tax class at time of sale\n",
        "\n",
        "data['TAX CLASS AT TIME OF SALE'].unique()"
      ],
      "execution_count": 0,
      "outputs": [
        {
          "output_type": "execute_result",
          "data": {
            "text/plain": [
              "[2, 4, 1]\n",
              "Categories (3, int64): [2, 4, 1]"
            ]
          },
          "metadata": {
            "tags": []
          },
          "execution_count": 47
        }
      ]
    },
    {
      "cell_type": "code",
      "metadata": {
        "id": "Zbw_0R5XuUjP",
        "colab_type": "code",
        "outputId": "0968b6d3-9fdf-43b5-b200-694e223485ae",
        "colab": {
          "base_uri": "https://localhost:8080/",
          "height": 175
        }
      },
      "source": [
        "pivot = data.pivot_table(index='TAX CLASS AT TIME OF SALE', values='SALE PRICE', aggfunc=np.median)\n",
        "pivot"
      ],
      "execution_count": 0,
      "outputs": [
        {
          "output_type": "execute_result",
          "data": {
            "text/html": [
              "<div>\n",
              "<style scoped>\n",
              "    .dataframe tbody tr th:only-of-type {\n",
              "        vertical-align: middle;\n",
              "    }\n",
              "\n",
              "    .dataframe tbody tr th {\n",
              "        vertical-align: top;\n",
              "    }\n",
              "\n",
              "    .dataframe thead th {\n",
              "        text-align: right;\n",
              "    }\n",
              "</style>\n",
              "<table border=\"1\" class=\"dataframe\">\n",
              "  <thead>\n",
              "    <tr style=\"text-align: right;\">\n",
              "      <th></th>\n",
              "      <th>SALE PRICE</th>\n",
              "    </tr>\n",
              "    <tr>\n",
              "      <th>TAX CLASS AT TIME OF SALE</th>\n",
              "      <th></th>\n",
              "    </tr>\n",
              "  </thead>\n",
              "  <tbody>\n",
              "    <tr>\n",
              "      <th>1</th>\n",
              "      <td>582487.5</td>\n",
              "    </tr>\n",
              "    <tr>\n",
              "      <th>2</th>\n",
              "      <td>990000.0</td>\n",
              "    </tr>\n",
              "    <tr>\n",
              "      <th>4</th>\n",
              "      <td>1050000.0</td>\n",
              "    </tr>\n",
              "  </tbody>\n",
              "</table>\n",
              "</div>"
            ],
            "text/plain": [
              "                           SALE PRICE\n",
              "TAX CLASS AT TIME OF SALE            \n",
              "1                            582487.5\n",
              "2                            990000.0\n",
              "4                           1050000.0"
            ]
          },
          "metadata": {
            "tags": []
          },
          "execution_count": 48
        }
      ]
    },
    {
      "cell_type": "code",
      "metadata": {
        "id": "BeqN31IOucrJ",
        "colab_type": "code",
        "outputId": "f7358cd0-dbfc-48a5-8b11-e1baefed5ac8",
        "colab": {
          "base_uri": "https://localhost:8080/",
          "height": 294
        }
      },
      "source": [
        "pivot.plot(kind='bar', color='red')"
      ],
      "execution_count": 0,
      "outputs": [
        {
          "output_type": "execute_result",
          "data": {
            "text/plain": [
              "<matplotlib.axes._subplots.AxesSubplot at 0x7fd8f6567320>"
            ]
          },
          "metadata": {
            "tags": []
          },
          "execution_count": 49
        },
        {
          "output_type": "display_data",
          "data": {
            "image/png": "[encoded data removed]",
            "text/plain": [
              "<Figure size 432x288 with 1 Axes>"
            ]
          },
          "metadata": {
            "tags": []
          }
        }
      ]
    },
    {
      "cell_type": "code",
      "metadata": {
        "id": "u0gETaKFuhSB",
        "colab_type": "code",
        "outputId": "745ebbc6-4740-4251-e37e-62173f7e9139",
        "colab": {
          "base_uri": "https://localhost:8080/",
          "height": 53
        }
      },
      "source": [
        "# Borough\n",
        "\n",
        "data['BOROUGH'].unique()"
      ],
      "execution_count": 0,
      "outputs": [
        {
          "output_type": "execute_result",
          "data": {
            "text/plain": [
              "[1, 2, 3, 4, 5]\n",
              "Categories (5, int64): [1, 2, 3, 4, 5]"
            ]
          },
          "metadata": {
            "tags": []
          },
          "execution_count": 50
        }
      ]
    },
    {
      "cell_type": "code",
      "metadata": {
        "id": "N_dCjRI9ulAM",
        "colab_type": "code",
        "outputId": "053de0f1-c51b-4b8e-84ac-215d24b0df47",
        "colab": {
          "base_uri": "https://localhost:8080/",
          "height": 237
        }
      },
      "source": [
        "pivot = data.pivot_table(index='BOROUGH', values='SALE PRICE', aggfunc=np.median)\n",
        "pivot"
      ],
      "execution_count": 0,
      "outputs": [
        {
          "output_type": "execute_result",
          "data": {
            "text/html": [
              "<div>\n",
              "<style scoped>\n",
              "    .dataframe tbody tr th:only-of-type {\n",
              "        vertical-align: middle;\n",
              "    }\n",
              "\n",
              "    .dataframe tbody tr th {\n",
              "        vertical-align: top;\n",
              "    }\n",
              "\n",
              "    .dataframe thead th {\n",
              "        text-align: right;\n",
              "    }\n",
              "</style>\n",
              "<table border=\"1\" class=\"dataframe\">\n",
              "  <thead>\n",
              "    <tr style=\"text-align: right;\">\n",
              "      <th></th>\n",
              "      <th>SALE PRICE</th>\n",
              "    </tr>\n",
              "    <tr>\n",
              "      <th>BOROUGH</th>\n",
              "      <th></th>\n",
              "    </tr>\n",
              "  </thead>\n",
              "  <tbody>\n",
              "    <tr>\n",
              "      <th>1</th>\n",
              "      <td>1435000.0</td>\n",
              "    </tr>\n",
              "    <tr>\n",
              "      <th>2</th>\n",
              "      <td>452750.0</td>\n",
              "    </tr>\n",
              "    <tr>\n",
              "      <th>3</th>\n",
              "      <td>860000.0</td>\n",
              "    </tr>\n",
              "    <tr>\n",
              "      <th>4</th>\n",
              "      <td>635000.0</td>\n",
              "    </tr>\n",
              "    <tr>\n",
              "      <th>5</th>\n",
              "      <td>470000.0</td>\n",
              "    </tr>\n",
              "  </tbody>\n",
              "</table>\n",
              "</div>"
            ],
            "text/plain": [
              "         SALE PRICE\n",
              "BOROUGH            \n",
              "1         1435000.0\n",
              "2          452750.0\n",
              "3          860000.0\n",
              "4          635000.0\n",
              "5          470000.0"
            ]
          },
          "metadata": {
            "tags": []
          },
          "execution_count": 51
        }
      ]
    },
    {
      "cell_type": "code",
      "metadata": {
        "id": "d6m_9FfLuuCJ",
        "colab_type": "code",
        "outputId": "17443405-86f2-4d91-86e7-443fce81b095",
        "colab": {
          "base_uri": "https://localhost:8080/",
          "height": 294
        }
      },
      "source": [
        "pivot.plot(kind='bar', color='blue')"
      ],
      "execution_count": 0,
      "outputs": [
        {
          "output_type": "execute_result",
          "data": {
            "text/plain": [
              "<matplotlib.axes._subplots.AxesSubplot at 0x7fd8f65c71d0>"
            ]
          },
          "metadata": {
            "tags": []
          },
          "execution_count": 52
        },
        {
          "output_type": "display_data",
          "data": {
            "image/png": "[encoded data removed]",
            "text/plain": [
              "<Figure size 432x288 with 1 Axes>"
            ]
          },
          "metadata": {
            "tags": []
          }
        }
      ]
    },
    {
      "cell_type": "code",
      "metadata": {
        "id": "Fi5fysMOuzlk",
        "colab_type": "code",
        "outputId": "6744224a-d2c9-4eb1-8b5b-292b11b0a44c",
        "colab": {
          "base_uri": "https://localhost:8080/",
          "height": 35
        }
      },
      "source": [
        "# Building class category\n",
        "\n",
        "print(data['BUILDING CLASS CATEGORY'].nunique())"
      ],
      "execution_count": 0,
      "outputs": [
        {
          "output_type": "stream",
          "text": [
            "36\n"
          ],
          "name": "stdout"
        }
      ]
    },
    {
      "cell_type": "code",
      "metadata": {
        "id": "Lgd7pBwlvVIf",
        "colab_type": "code",
        "outputId": "fded0a66-febc-423a-9a87-90837c535fe6",
        "colab": {
          "base_uri": "https://localhost:8080/",
          "height": 1000
        }
      },
      "source": [
        "pivot = data.pivot_table(index='BUILDING CLASS CATEGORY', values='SALE PRICE', aggfunc=np.median)\n",
        "pivot"
      ],
      "execution_count": 0,
      "outputs": [
        {
          "output_type": "execute_result",
          "data": {
            "text/html": [
              "<div>\n",
              "<style scoped>\n",
              "    .dataframe tbody tr th:only-of-type {\n",
              "        vertical-align: middle;\n",
              "    }\n",
              "\n",
              "    .dataframe tbody tr th {\n",
              "        vertical-align: top;\n",
              "    }\n",
              "\n",
              "    .dataframe thead th {\n",
              "        text-align: right;\n",
              "    }\n",
              "</style>\n",
              "<table border=\"1\" class=\"dataframe\">\n",
              "  <thead>\n",
              "    <tr style=\"text-align: right;\">\n",
              "      <th></th>\n",
              "      <th>SALE PRICE</th>\n",
              "    </tr>\n",
              "    <tr>\n",
              "      <th>BUILDING CLASS CATEGORY</th>\n",
              "      <th></th>\n",
              "    </tr>\n",
              "  </thead>\n",
              "  <tbody>\n",
              "    <tr>\n",
              "      <th>01 ONE FAMILY DWELLINGS</th>\n",
              "      <td>510000.0</td>\n",
              "    </tr>\n",
              "    <tr>\n",
              "      <th>02 TWO FAMILY DWELLINGS</th>\n",
              "      <td>664075.5</td>\n",
              "    </tr>\n",
              "    <tr>\n",
              "      <th>03 THREE FAMILY DWELLINGS</th>\n",
              "      <td>820000.0</td>\n",
              "    </tr>\n",
              "    <tr>\n",
              "      <th>04 TAX CLASS 1 CONDOS</th>\n",
              "      <td>420405.0</td>\n",
              "    </tr>\n",
              "    <tr>\n",
              "      <th>05 TAX CLASS 1 VACANT LAND</th>\n",
              "      <td>720000.0</td>\n",
              "    </tr>\n",
              "    <tr>\n",
              "      <th>06 TAX CLASS 1 - OTHER</th>\n",
              "      <td>500000.0</td>\n",
              "    </tr>\n",
              "    <tr>\n",
              "      <th>07 RENTALS - WALKUP APARTMENTS</th>\n",
              "      <td>1280000.0</td>\n",
              "    </tr>\n",
              "    <tr>\n",
              "      <th>08 RENTALS - ELEVATOR APARTMENTS</th>\n",
              "      <td>3670000.0</td>\n",
              "    </tr>\n",
              "    <tr>\n",
              "      <th>11A CONDO-RENTALS</th>\n",
              "      <td>999000.0</td>\n",
              "    </tr>\n",
              "    <tr>\n",
              "      <th>12 CONDOS - WALKUP APARTMENTS</th>\n",
              "      <td>528000.0</td>\n",
              "    </tr>\n",
              "    <tr>\n",
              "      <th>13 CONDOS - ELEVATOR APARTMENTS</th>\n",
              "      <td>999999.0</td>\n",
              "    </tr>\n",
              "    <tr>\n",
              "      <th>14 RENTALS - 4-10 UNIT</th>\n",
              "      <td>1350000.0</td>\n",
              "    </tr>\n",
              "    <tr>\n",
              "      <th>15 CONDOS - 2-10 UNIT RESIDENTIAL</th>\n",
              "      <td>830000.0</td>\n",
              "    </tr>\n",
              "    <tr>\n",
              "      <th>16 CONDOS - 2-10 UNIT WITH COMMERCIAL UNIT</th>\n",
              "      <td>1398000.0</td>\n",
              "    </tr>\n",
              "    <tr>\n",
              "      <th>21 OFFICE BUILDINGS</th>\n",
              "      <td>941756.0</td>\n",
              "    </tr>\n",
              "    <tr>\n",
              "      <th>22 STORE BUILDINGS</th>\n",
              "      <td>1050000.0</td>\n",
              "    </tr>\n",
              "    <tr>\n",
              "      <th>23 LOFT BUILDINGS</th>\n",
              "      <td>2837500.0</td>\n",
              "    </tr>\n",
              "    <tr>\n",
              "      <th>26 OTHER HOTELS</th>\n",
              "      <td>1400000.0</td>\n",
              "    </tr>\n",
              "    <tr>\n",
              "      <th>27 FACTORIES</th>\n",
              "      <td>1312500.0</td>\n",
              "    </tr>\n",
              "    <tr>\n",
              "      <th>28 COMMERCIAL CONDOS</th>\n",
              "      <td>1257919.0</td>\n",
              "    </tr>\n",
              "    <tr>\n",
              "      <th>29 COMMERCIAL GARAGES</th>\n",
              "      <td>850000.0</td>\n",
              "    </tr>\n",
              "    <tr>\n",
              "      <th>30 WAREHOUSES</th>\n",
              "      <td>1611772.5</td>\n",
              "    </tr>\n",
              "    <tr>\n",
              "      <th>31 COMMERCIAL VACANT LAND</th>\n",
              "      <td>650000.0</td>\n",
              "    </tr>\n",
              "    <tr>\n",
              "      <th>32 HOSPITAL AND HEALTH FACILITIES</th>\n",
              "      <td>1100000.0</td>\n",
              "    </tr>\n",
              "    <tr>\n",
              "      <th>33 EDUCATIONAL FACILITIES</th>\n",
              "      <td>825000.0</td>\n",
              "    </tr>\n",
              "    <tr>\n",
              "      <th>35 INDOOR PUBLIC AND CULTURAL FACILITIES</th>\n",
              "      <td>620000.0</td>\n",
              "    </tr>\n",
              "    <tr>\n",
              "      <th>37 RELIGIOUS FACILITIES</th>\n",
              "      <td>887500.0</td>\n",
              "    </tr>\n",
              "    <tr>\n",
              "      <th>38 ASYLUMS AND HOMES</th>\n",
              "      <td>2674416.0</td>\n",
              "    </tr>\n",
              "    <tr>\n",
              "      <th>41 TAX CLASS 4 - OTHER</th>\n",
              "      <td>950000.0</td>\n",
              "    </tr>\n",
              "    <tr>\n",
              "      <th>42 CONDO CULTURAL/MEDICAL/EDUCATIONAL/ETC</th>\n",
              "      <td>1536603.5</td>\n",
              "    </tr>\n",
              "    <tr>\n",
              "      <th>43 CONDO OFFICE BUILDINGS</th>\n",
              "      <td>1460598.5</td>\n",
              "    </tr>\n",
              "    <tr>\n",
              "      <th>44 CONDO PARKING</th>\n",
              "      <td>162920.0</td>\n",
              "    </tr>\n",
              "    <tr>\n",
              "      <th>45 CONDO HOTELS</th>\n",
              "      <td>295000.0</td>\n",
              "    </tr>\n",
              "    <tr>\n",
              "      <th>46 CONDO STORE BUILDINGS</th>\n",
              "      <td>1237500.0</td>\n",
              "    </tr>\n",
              "    <tr>\n",
              "      <th>47 CONDO NON-BUSINESS STORAGE</th>\n",
              "      <td>265488.0</td>\n",
              "    </tr>\n",
              "    <tr>\n",
              "      <th>48 CONDO TERRACES/GARDENS/CABANAS</th>\n",
              "      <td>717500.0</td>\n",
              "    </tr>\n",
              "  </tbody>\n",
              "</table>\n",
              "</div>"
            ],
            "text/plain": [
              "                                              SALE PRICE\n",
              "BUILDING CLASS CATEGORY                                 \n",
              "01 ONE FAMILY DWELLINGS                         510000.0\n",
              "02 TWO FAMILY DWELLINGS                         664075.5\n",
              "03 THREE FAMILY DWELLINGS                       820000.0\n",
              "04 TAX CLASS 1 CONDOS                           420405.0\n",
              "05 TAX CLASS 1 VACANT LAND                      720000.0\n",
              "06 TAX CLASS 1 - OTHER                          500000.0\n",
              "07 RENTALS - WALKUP APARTMENTS                 1280000.0\n",
              "08 RENTALS - ELEVATOR APARTMENTS               3670000.0\n",
              "11A CONDO-RENTALS                               999000.0\n",
              "12 CONDOS - WALKUP APARTMENTS                   528000.0\n",
              "13 CONDOS - ELEVATOR APARTMENTS                 999999.0\n",
              "14 RENTALS - 4-10 UNIT                         1350000.0\n",
              "15 CONDOS - 2-10 UNIT RESIDENTIAL               830000.0\n",
              "16 CONDOS - 2-10 UNIT WITH COMMERCIAL UNIT     1398000.0\n",
              "21 OFFICE BUILDINGS                             941756.0\n",
              "22 STORE BUILDINGS                             1050000.0\n",
              "23 LOFT BUILDINGS                              2837500.0\n",
              "26 OTHER HOTELS                                1400000.0\n",
              "27 FACTORIES                                   1312500.0\n",
              "28 COMMERCIAL CONDOS                           1257919.0\n",
              "29 COMMERCIAL GARAGES                           850000.0\n",
              "30 WAREHOUSES                                  1611772.5\n",
              "31 COMMERCIAL VACANT LAND                       650000.0\n",
              "32 HOSPITAL AND HEALTH FACILITIES              1100000.0\n",
              "33 EDUCATIONAL FACILITIES                       825000.0\n",
              "35 INDOOR PUBLIC AND CULTURAL FACILITIES        620000.0\n",
              "37 RELIGIOUS FACILITIES                         887500.0\n",
              "38 ASYLUMS AND HOMES                           2674416.0\n",
              "41 TAX CLASS 4 - OTHER                          950000.0\n",
              "42 CONDO CULTURAL/MEDICAL/EDUCATIONAL/ETC      1536603.5\n",
              "43 CONDO OFFICE BUILDINGS                      1460598.5\n",
              "44 CONDO PARKING                                162920.0\n",
              "45 CONDO HOTELS                                 295000.0\n",
              "46 CONDO STORE BUILDINGS                       1237500.0\n",
              "47 CONDO NON-BUSINESS STORAGE                   265488.0\n",
              "48 CONDO TERRACES/GARDENS/CABANAS               717500.0"
            ]
          },
          "metadata": {
            "tags": []
          },
          "execution_count": 54
        }
      ]
    },
    {
      "cell_type": "code",
      "metadata": {
        "id": "7q-pYBeQvdFB",
        "colab_type": "code",
        "outputId": "cd5cf2f0-9860-4e4e-df91-672bf4e2ddcb",
        "colab": {
          "base_uri": "https://localhost:8080/",
          "height": 548
        }
      },
      "source": [
        "pivot.plot(kind='bar', color='Green')\n"
      ],
      "execution_count": 0,
      "outputs": [
        {
          "output_type": "execute_result",
          "data": {
            "text/plain": [
              "<matplotlib.axes._subplots.AxesSubplot at 0x7fd8f649fb38>"
            ]
          },
          "metadata": {
            "tags": []
          },
          "execution_count": 57
        },
        {
          "output_type": "display_data",
          "data": {
            "image/png": "[encoded data removed]",
            "text/plain": [
              "<Figure size 432x288 with 1 Axes>"
            ]
          },
          "metadata": {
            "tags": []
          }
        }
      ]
    },
    {
      "cell_type": "markdown",
      "metadata": {
        "id": "vmIybiuQv9iv",
        "colab_type": "text"
      },
      "source": [
        "--------------------------"
      ]
    },
    {
      "cell_type": "markdown",
      "metadata": {
        "id": "K2QdAIEev-Rd",
        "colab_type": "text"
      },
      "source": [
        "Data Preprocessing"
      ]
    },
    {
      "cell_type": "code",
      "metadata": {
        "id": "VDOC3Znivqj5",
        "colab_type": "code",
        "outputId": "22438e5d-3502-4d95-b360-029f7b3cb215",
        "colab": {
          "base_uri": "https://localhost:8080/",
          "height": 417
        }
      },
      "source": [
        "del data['ADDRESS']\n",
        "del data['APARTMENT NUMBER']\n",
        "\n",
        "data.info()"
      ],
      "execution_count": 0,
      "outputs": [
        {
          "output_type": "stream",
          "text": [
            "<class 'pandas.core.frame.DataFrame'>\n",
            "Int64Index: 38342 entries, 3 to 84545\n",
            "Data columns (total 17 columns):\n",
            "BOROUGH                           38342 non-null category\n",
            "NEIGHBORHOOD                      38342 non-null object\n",
            "BUILDING CLASS CATEGORY           38342 non-null object\n",
            "TAX CLASS AT PRESENT              38342 non-null category\n",
            "BLOCK                             38342 non-null int64\n",
            "LOT                               38342 non-null int64\n",
            "BUILDING CLASS AT PRESENT         38342 non-null object\n",
            "ZIP CODE                          38342 non-null int64\n",
            "RESIDENTIAL UNITS                 38342 non-null int64\n",
            "COMMERCIAL UNITS                  38342 non-null int64\n",
            "TOTAL UNITS                       38342 non-null int64\n",
            "LAND SQUARE FEET                  38342 non-null float64\n",
            "GROSS SQUARE FEET                 38342 non-null float64\n",
            "YEAR BUILT                        38342 non-null int64\n",
            "TAX CLASS AT TIME OF SALE         38342 non-null category\n",
            "BUILDING CLASS AT TIME OF SALE    38342 non-null object\n",
            "SALE PRICE                        38342 non-null float64\n",
            "dtypes: category(3), float64(3), int64(7), object(4)\n",
            "memory usage: 5.7+ MB\n"
          ],
          "name": "stdout"
        }
      ]
    },
    {
      "cell_type": "code",
      "metadata": {
        "id": "NIueZJfkwEKZ",
        "colab_type": "code",
        "outputId": "bf888e9d-23c3-4239-b757-7f2bec2147e9",
        "colab": {
          "base_uri": "https://localhost:8080/",
          "height": 355
        }
      },
      "source": [
        "numeric_data = data.select_dtypes(include=[np.number])\n",
        "numeric_data.describe()"
      ],
      "execution_count": 0,
      "outputs": [
        {
          "output_type": "execute_result",
          "data": {
            "text/html": [
              "<div>\n",
              "<style scoped>\n",
              "    .dataframe tbody tr th:only-of-type {\n",
              "        vertical-align: middle;\n",
              "    }\n",
              "\n",
              "    .dataframe tbody tr th {\n",
              "        vertical-align: top;\n",
              "    }\n",
              "\n",
              "    .dataframe thead th {\n",
              "        text-align: right;\n",
              "    }\n",
              "</style>\n",
              "<table border=\"1\" class=\"dataframe\">\n",
              "  <thead>\n",
              "    <tr style=\"text-align: right;\">\n",
              "      <th></th>\n",
              "      <th>BLOCK</th>\n",
              "      <th>LOT</th>\n",
              "      <th>ZIP CODE</th>\n",
              "      <th>RESIDENTIAL UNITS</th>\n",
              "      <th>COMMERCIAL UNITS</th>\n",
              "      <th>TOTAL UNITS</th>\n",
              "      <th>LAND SQUARE FEET</th>\n",
              "      <th>GROSS SQUARE FEET</th>\n",
              "      <th>YEAR BUILT</th>\n",
              "      <th>SALE PRICE</th>\n",
              "    </tr>\n",
              "  </thead>\n",
              "  <tbody>\n",
              "    <tr>\n",
              "      <th>count</th>\n",
              "      <td>38342.000000</td>\n",
              "      <td>38342.000000</td>\n",
              "      <td>38342.000000</td>\n",
              "      <td>38342.000000</td>\n",
              "      <td>38342.000000</td>\n",
              "      <td>38342.000000</td>\n",
              "      <td>38342.000000</td>\n",
              "      <td>38342.000000</td>\n",
              "      <td>38342.000000</td>\n",
              "      <td>3.834200e+04</td>\n",
              "    </tr>\n",
              "    <tr>\n",
              "      <th>mean</th>\n",
              "      <td>4690.743362</td>\n",
              "      <td>470.294168</td>\n",
              "      <td>10904.489828</td>\n",
              "      <td>1.513067</td>\n",
              "      <td>0.059700</td>\n",
              "      <td>1.581895</td>\n",
              "      <td>2786.907023</td>\n",
              "      <td>2227.495323</td>\n",
              "      <td>1828.514892</td>\n",
              "      <td>9.188105e+05</td>\n",
              "    </tr>\n",
              "    <tr>\n",
              "      <th>std</th>\n",
              "      <td>3733.782256</td>\n",
              "      <td>718.246919</td>\n",
              "      <td>620.989034</td>\n",
              "      <td>1.096822</td>\n",
              "      <td>0.341536</td>\n",
              "      <td>1.139295</td>\n",
              "      <td>1549.224091</td>\n",
              "      <td>1406.111123</td>\n",
              "      <td>478.808260</td>\n",
              "      <td>7.654428e+05</td>\n",
              "    </tr>\n",
              "    <tr>\n",
              "      <th>min</th>\n",
              "      <td>1.000000</td>\n",
              "      <td>1.000000</td>\n",
              "      <td>0.000000</td>\n",
              "      <td>0.000000</td>\n",
              "      <td>0.000000</td>\n",
              "      <td>1.000000</td>\n",
              "      <td>0.000000</td>\n",
              "      <td>0.000000</td>\n",
              "      <td>0.000000</td>\n",
              "      <td>1.007000e+05</td>\n",
              "    </tr>\n",
              "    <tr>\n",
              "      <th>25%</th>\n",
              "      <td>1532.000000</td>\n",
              "      <td>28.000000</td>\n",
              "      <td>10312.000000</td>\n",
              "      <td>1.000000</td>\n",
              "      <td>0.000000</td>\n",
              "      <td>1.000000</td>\n",
              "      <td>1942.000000</td>\n",
              "      <td>1280.000000</td>\n",
              "      <td>1920.000000</td>\n",
              "      <td>4.590000e+05</td>\n",
              "    </tr>\n",
              "    <tr>\n",
              "      <th>50%</th>\n",
              "      <td>4019.000000</td>\n",
              "      <td>62.000000</td>\n",
              "      <td>11214.000000</td>\n",
              "      <td>1.000000</td>\n",
              "      <td>0.000000</td>\n",
              "      <td>1.000000</td>\n",
              "      <td>2600.000000</td>\n",
              "      <td>1978.000000</td>\n",
              "      <td>1940.000000</td>\n",
              "      <td>6.800000e+05</td>\n",
              "    </tr>\n",
              "    <tr>\n",
              "      <th>75%</th>\n",
              "      <td>6799.000000</td>\n",
              "      <td>1030.000000</td>\n",
              "      <td>11360.000000</td>\n",
              "      <td>2.000000</td>\n",
              "      <td>0.000000</td>\n",
              "      <td>2.000000</td>\n",
              "      <td>3858.418040</td>\n",
              "      <td>3840.000000</td>\n",
              "      <td>1987.000000</td>\n",
              "      <td>1.055000e+06</td>\n",
              "    </tr>\n",
              "    <tr>\n",
              "      <th>max</th>\n",
              "      <td>16319.000000</td>\n",
              "      <td>9106.000000</td>\n",
              "      <td>11694.000000</td>\n",
              "      <td>20.000000</td>\n",
              "      <td>14.000000</td>\n",
              "      <td>20.000000</td>\n",
              "      <td>9996.000000</td>\n",
              "      <td>9926.000000</td>\n",
              "      <td>2017.000000</td>\n",
              "      <td>4.996841e+06</td>\n",
              "    </tr>\n",
              "  </tbody>\n",
              "</table>\n",
              "</div>"
            ],
            "text/plain": [
              "              BLOCK           LOT  ...    YEAR BUILT    SALE PRICE\n",
              "count  38342.000000  38342.000000  ...  38342.000000  3.834200e+04\n",
              "mean    4690.743362    470.294168  ...   1828.514892  9.188105e+05\n",
              "std     3733.782256    718.246919  ...    478.808260  7.654428e+05\n",
              "min        1.000000      1.000000  ...      0.000000  1.007000e+05\n",
              "25%     1532.000000     28.000000  ...   1920.000000  4.590000e+05\n",
              "50%     4019.000000     62.000000  ...   1940.000000  6.800000e+05\n",
              "75%     6799.000000   1030.000000  ...   1987.000000  1.055000e+06\n",
              "max    16319.000000   9106.000000  ...   2017.000000  4.996841e+06\n",
              "\n",
              "[8 rows x 10 columns]"
            ]
          },
          "metadata": {
            "tags": []
          },
          "execution_count": 60
        }
      ]
    },
    {
      "cell_type": "code",
      "metadata": {
        "id": "FxXv8Gq2wPOz",
        "colab_type": "code",
        "outputId": "e6bde6f3-be41-4f5a-dca4-c692f6fb4137",
        "colab": {
          "base_uri": "https://localhost:8080/",
          "height": 110
        }
      },
      "source": [
        "numeric_data.columns"
      ],
      "execution_count": 0,
      "outputs": [
        {
          "output_type": "execute_result",
          "data": {
            "text/plain": [
              "Index(['BLOCK', 'LOT', 'ZIP CODE', 'RESIDENTIAL UNITS', 'COMMERCIAL UNITS',\n",
              "       'TOTAL UNITS', 'LAND SQUARE FEET', 'GROSS SQUARE FEET', 'YEAR BUILT',\n",
              "       'SALE PRICE'],\n",
              "      dtype='object')"
            ]
          },
          "metadata": {
            "tags": []
          },
          "execution_count": 61
        }
      ]
    },
    {
      "cell_type": "code",
      "metadata": {
        "id": "mjkymmSvwg4A",
        "colab_type": "code",
        "outputId": "f66ae4af-b310-4a14-decd-e050d3180354",
        "colab": {
          "base_uri": "https://localhost:8080/",
          "height": 144
        }
      },
      "source": [
        "# Transform the numeric features using log(x+1)\n",
        "\n",
        "from scipy.stats import skew\n",
        "\n",
        "skewed = data[numeric_data.columns].apply(lambda x: skew(x.dropna().astype(float)))\n",
        "skewed = skewed[skewed > 0.75]\n",
        "skewed"
      ],
      "execution_count": 0,
      "outputs": [
        {
          "output_type": "execute_result",
          "data": {
            "text/plain": [
              "BLOCK                 0.917624\n",
              "LOT                   2.828267\n",
              "RESIDENTIAL UNITS     4.185514\n",
              "COMMERCIAL UNITS     10.859858\n",
              "TOTAL UNITS           4.282814\n",
              "SALE PRICE            2.349170\n",
              "dtype: float64"
            ]
          },
          "metadata": {
            "tags": []
          },
          "execution_count": 62
        }
      ]
    },
    {
      "cell_type": "code",
      "metadata": {
        "id": "VYggt7gQ1WpM",
        "colab_type": "code",
        "outputId": "88152387-9fdc-4755-999e-3dedacf6d171",
        "colab": {
          "base_uri": "https://localhost:8080/",
          "height": 92
        }
      },
      "source": [
        "skewed.index"
      ],
      "execution_count": 0,
      "outputs": [
        {
          "output_type": "execute_result",
          "data": {
            "text/plain": [
              "Index(['BLOCK', 'LOT', 'RESIDENTIAL UNITS', 'COMMERCIAL UNITS', 'TOTAL UNITS',\n",
              "       'SALE PRICE'],\n",
              "      dtype='object')"
            ]
          },
          "metadata": {
            "tags": []
          },
          "execution_count": 63
        }
      ]
    },
    {
      "cell_type": "code",
      "metadata": {
        "id": "6rpwXURv1ZU6",
        "colab_type": "code",
        "colab": {}
      },
      "source": [
        "skewed = skewed.index"
      ],
      "execution_count": 0,
      "outputs": []
    },
    {
      "cell_type": "code",
      "metadata": {
        "id": "AscBilYf1bfq",
        "colab_type": "code",
        "colab": {}
      },
      "source": [
        "data[skewed] = np.log1p(data[skewed])"
      ],
      "execution_count": 0,
      "outputs": []
    },
    {
      "cell_type": "code",
      "metadata": {
        "id": "Iq1xiDvL1e-x",
        "colab_type": "code",
        "colab": {}
      },
      "source": [
        "scaler = StandardScaler()\n",
        "scaler.fit(data[numeric_data.columns])\n",
        "scaled = scaler.transform(data[numeric_data.columns])"
      ],
      "execution_count": 0,
      "outputs": []
    },
    {
      "cell_type": "code",
      "metadata": {
        "id": "N1ej6z9S1qUN",
        "colab_type": "code",
        "colab": {}
      },
      "source": [
        "for i, col in enumerate(numeric_data.columns):\n",
        "  data[col] = scaled[:, i]"
      ],
      "execution_count": 0,
      "outputs": []
    },
    {
      "cell_type": "code",
      "metadata": {
        "id": "47sKVLwS3tZA",
        "colab_type": "code",
        "outputId": "d3526e71-fab4-4d39-e650-c6df606daa33",
        "colab": {
          "base_uri": "https://localhost:8080/",
          "height": 487
        }
      },
      "source": [
        "data.head()"
      ],
      "execution_count": 0,
      "outputs": [
        {
          "output_type": "execute_result",
          "data": {
            "text/html": [
              "<div>\n",
              "<style scoped>\n",
              "    .dataframe tbody tr th:only-of-type {\n",
              "        vertical-align: middle;\n",
              "    }\n",
              "\n",
              "    .dataframe tbody tr th {\n",
              "        vertical-align: top;\n",
              "    }\n",
              "\n",
              "    .dataframe thead th {\n",
              "        text-align: right;\n",
              "    }\n",
              "</style>\n",
              "<table border=\"1\" class=\"dataframe\">\n",
              "  <thead>\n",
              "    <tr style=\"text-align: right;\">\n",
              "      <th></th>\n",
              "      <th>BOROUGH</th>\n",
              "      <th>NEIGHBORHOOD</th>\n",
              "      <th>BUILDING CLASS CATEGORY</th>\n",
              "      <th>TAX CLASS AT PRESENT</th>\n",
              "      <th>BLOCK</th>\n",
              "      <th>LOT</th>\n",
              "      <th>BUILDING CLASS AT PRESENT</th>\n",
              "      <th>ZIP CODE</th>\n",
              "      <th>RESIDENTIAL UNITS</th>\n",
              "      <th>COMMERCIAL UNITS</th>\n",
              "      <th>TOTAL UNITS</th>\n",
              "      <th>LAND SQUARE FEET</th>\n",
              "      <th>GROSS SQUARE FEET</th>\n",
              "      <th>YEAR BUILT</th>\n",
              "      <th>TAX CLASS AT TIME OF SALE</th>\n",
              "      <th>BUILDING CLASS AT TIME OF SALE</th>\n",
              "      <th>SALE PRICE</th>\n",
              "    </tr>\n",
              "  </thead>\n",
              "  <tbody>\n",
              "    <tr>\n",
              "      <th>3</th>\n",
              "      <td>1</td>\n",
              "      <td>ALPHABET CITY</td>\n",
              "      <td>07 RENTALS - WALKUP APARTMENTS</td>\n",
              "      <td>2B</td>\n",
              "      <td>-1.552838</td>\n",
              "      <td>-0.871424</td>\n",
              "      <td>C4</td>\n",
              "      <td>-1.442057</td>\n",
              "      <td>4.726583</td>\n",
              "      <td>-0.204406</td>\n",
              "      <td>4.897089</td>\n",
              "      <td>-0.332369</td>\n",
              "      <td>3.247655</td>\n",
              "      <td>0.176451</td>\n",
              "      <td>2</td>\n",
              "      <td>C4</td>\n",
              "      <td>2.478171</td>\n",
              "    </tr>\n",
              "    <tr>\n",
              "      <th>6</th>\n",
              "      <td>1</td>\n",
              "      <td>ALPHABET CITY</td>\n",
              "      <td>07 RENTALS - WALKUP APARTMENTS</td>\n",
              "      <td>2B</td>\n",
              "      <td>-1.545023</td>\n",
              "      <td>-0.654228</td>\n",
              "      <td>C4</td>\n",
              "      <td>-1.442057</td>\n",
              "      <td>4.109626</td>\n",
              "      <td>-0.204406</td>\n",
              "      <td>4.245205</td>\n",
              "      <td>-0.669316</td>\n",
              "      <td>1.421318</td>\n",
              "      <td>0.191071</td>\n",
              "      <td>2</td>\n",
              "      <td>C4</td>\n",
              "      <td>2.174164</td>\n",
              "    </tr>\n",
              "    <tr>\n",
              "      <th>76</th>\n",
              "      <td>1</td>\n",
              "      <td>ALPHABET CITY</td>\n",
              "      <td>12 CONDOS - WALKUP APARTMENTS</td>\n",
              "      <td>2</td>\n",
              "      <td>-1.584890</td>\n",
              "      <td>1.174680</td>\n",
              "      <td>R2</td>\n",
              "      <td>-1.442057</td>\n",
              "      <td>-0.514625</td>\n",
              "      <td>-0.204406</td>\n",
              "      <td>-0.640828</td>\n",
              "      <td>0.691653</td>\n",
              "      <td>1.183694</td>\n",
              "      <td>-3.818937</td>\n",
              "      <td>2</td>\n",
              "      <td>R2</td>\n",
              "      <td>-0.206132</td>\n",
              "    </tr>\n",
              "    <tr>\n",
              "      <th>79</th>\n",
              "      <td>1</td>\n",
              "      <td>ALPHABET CITY</td>\n",
              "      <td>13 CONDOS - ELEVATOR APARTMENTS</td>\n",
              "      <td>2</td>\n",
              "      <td>-1.611925</td>\n",
              "      <td>1.175214</td>\n",
              "      <td>R4</td>\n",
              "      <td>-1.442057</td>\n",
              "      <td>-0.514625</td>\n",
              "      <td>-0.204406</td>\n",
              "      <td>-0.640828</td>\n",
              "      <td>0.691653</td>\n",
              "      <td>1.183694</td>\n",
              "      <td>0.191071</td>\n",
              "      <td>2</td>\n",
              "      <td>R4</td>\n",
              "      <td>0.094653</td>\n",
              "    </tr>\n",
              "    <tr>\n",
              "      <th>80</th>\n",
              "      <td>1</td>\n",
              "      <td>ALPHABET CITY</td>\n",
              "      <td>13 CONDOS - ELEVATOR APARTMENTS</td>\n",
              "      <td>2</td>\n",
              "      <td>-1.611925</td>\n",
              "      <td>1.175747</td>\n",
              "      <td>R4</td>\n",
              "      <td>-1.442057</td>\n",
              "      <td>-0.514625</td>\n",
              "      <td>-0.204406</td>\n",
              "      <td>-0.640828</td>\n",
              "      <td>0.691653</td>\n",
              "      <td>1.183694</td>\n",
              "      <td>0.191071</td>\n",
              "      <td>2</td>\n",
              "      <td>R4</td>\n",
              "      <td>0.113914</td>\n",
              "    </tr>\n",
              "  </tbody>\n",
              "</table>\n",
              "</div>"
            ],
            "text/plain": [
              "   BOROUGH   NEIGHBORHOOD  ... BUILDING CLASS AT TIME OF SALE SALE PRICE\n",
              "3        1  ALPHABET CITY  ...                             C4   2.478171\n",
              "6        1  ALPHABET CITY  ...                             C4   2.174164\n",
              "76       1  ALPHABET CITY  ...                             R2  -0.206132\n",
              "79       1  ALPHABET CITY  ...                             R4   0.094653\n",
              "80       1  ALPHABET CITY  ...                             R4   0.113914\n",
              "\n",
              "[5 rows x 17 columns]"
            ]
          },
          "metadata": {
            "tags": []
          },
          "execution_count": 68
        }
      ]
    },
    {
      "cell_type": "code",
      "metadata": {
        "id": "mzYS9TNy4N9b",
        "colab_type": "code",
        "colab": {}
      },
      "source": [
        "del data['BUILDING CLASS AT PRESENT']\n",
        "del data['BUILDING CLASS AT TIME OF SALE']\n",
        "del data['NEIGHBORHOOD']\n"
      ],
      "execution_count": 0,
      "outputs": []
    },
    {
      "cell_type": "code",
      "metadata": {
        "id": "2sOndgX33uYH",
        "colab_type": "code",
        "outputId": "1fbc8376-1d69-4a50-8e1d-a49c342b11f1",
        "colab": {
          "base_uri": "https://localhost:8080/",
          "height": 565
        }
      },
      "source": [
        "# One hot encoding categorical columns\n",
        "\n",
        "one_hot_features = ['BOROUGH', 'BUILDING CLASS CATEGORY', 'TAX CLASS AT PRESENT', 'TAX CLASS AT TIME OF SALE']\n",
        "\n",
        "one_hot_encoded = pd.get_dummies(data[one_hot_features])\n",
        "one_hot_encoded"
      ],
      "execution_count": 0,
      "outputs": [
        {
          "output_type": "execute_result",
          "data": {
            "text/html": [
              "<div>\n",
              "<style scoped>\n",
              "    .dataframe tbody tr th:only-of-type {\n",
              "        vertical-align: middle;\n",
              "    }\n",
              "\n",
              "    .dataframe tbody tr th {\n",
              "        vertical-align: top;\n",
              "    }\n",
              "\n",
              "    .dataframe thead th {\n",
              "        text-align: right;\n",
              "    }\n",
              "</style>\n",
              "<table border=\"1\" class=\"dataframe\">\n",
              "  <thead>\n",
              "    <tr style=\"text-align: right;\">\n",
              "      <th></th>\n",
              "      <th>BOROUGH_1</th>\n",
              "      <th>BOROUGH_2</th>\n",
              "      <th>BOROUGH_3</th>\n",
              "      <th>BOROUGH_4</th>\n",
              "      <th>BOROUGH_5</th>\n",
              "      <th>BUILDING CLASS CATEGORY_01 ONE FAMILY DWELLINGS</th>\n",
              "      <th>BUILDING CLASS CATEGORY_02 TWO FAMILY DWELLINGS</th>\n",
              "      <th>BUILDING CLASS CATEGORY_03 THREE FAMILY DWELLINGS</th>\n",
              "      <th>BUILDING CLASS CATEGORY_04 TAX CLASS 1 CONDOS</th>\n",
              "      <th>BUILDING CLASS CATEGORY_05 TAX CLASS 1 VACANT LAND</th>\n",
              "      <th>BUILDING CLASS CATEGORY_06 TAX CLASS 1 - OTHER</th>\n",
              "      <th>BUILDING CLASS CATEGORY_07 RENTALS - WALKUP APARTMENTS</th>\n",
              "      <th>BUILDING CLASS CATEGORY_08 RENTALS - ELEVATOR APARTMENTS</th>\n",
              "      <th>BUILDING CLASS CATEGORY_11A CONDO-RENTALS</th>\n",
              "      <th>BUILDING CLASS CATEGORY_12 CONDOS - WALKUP APARTMENTS</th>\n",
              "      <th>BUILDING CLASS CATEGORY_13 CONDOS - ELEVATOR APARTMENTS</th>\n",
              "      <th>BUILDING CLASS CATEGORY_14 RENTALS - 4-10 UNIT</th>\n",
              "      <th>BUILDING CLASS CATEGORY_15 CONDOS - 2-10 UNIT RESIDENTIAL</th>\n",
              "      <th>BUILDING CLASS CATEGORY_16 CONDOS - 2-10 UNIT WITH COMMERCIAL UNIT</th>\n",
              "      <th>BUILDING CLASS CATEGORY_21 OFFICE BUILDINGS</th>\n",
              "      <th>BUILDING CLASS CATEGORY_22 STORE BUILDINGS</th>\n",
              "      <th>BUILDING CLASS CATEGORY_23 LOFT BUILDINGS</th>\n",
              "      <th>BUILDING CLASS CATEGORY_26 OTHER HOTELS</th>\n",
              "      <th>BUILDING CLASS CATEGORY_27 FACTORIES</th>\n",
              "      <th>BUILDING CLASS CATEGORY_28 COMMERCIAL CONDOS</th>\n",
              "      <th>BUILDING CLASS CATEGORY_29 COMMERCIAL GARAGES</th>\n",
              "      <th>BUILDING CLASS CATEGORY_30 WAREHOUSES</th>\n",
              "      <th>BUILDING CLASS CATEGORY_31 COMMERCIAL VACANT LAND</th>\n",
              "      <th>BUILDING CLASS CATEGORY_32 HOSPITAL AND HEALTH FACILITIES</th>\n",
              "      <th>BUILDING CLASS CATEGORY_33 EDUCATIONAL FACILITIES</th>\n",
              "      <th>BUILDING CLASS CATEGORY_35 INDOOR PUBLIC AND CULTURAL FACILITIES</th>\n",
              "      <th>BUILDING CLASS CATEGORY_37 RELIGIOUS FACILITIES</th>\n",
              "      <th>BUILDING CLASS CATEGORY_38 ASYLUMS AND HOMES</th>\n",
              "      <th>BUILDING CLASS CATEGORY_41 TAX CLASS 4 - OTHER</th>\n",
              "      <th>BUILDING CLASS CATEGORY_42 CONDO CULTURAL/MEDICAL/EDUCATIONAL/ETC</th>\n",
              "      <th>BUILDING CLASS CATEGORY_43 CONDO OFFICE BUILDINGS</th>\n",
              "      <th>BUILDING CLASS CATEGORY_44 CONDO PARKING</th>\n",
              "      <th>BUILDING CLASS CATEGORY_45 CONDO HOTELS</th>\n",
              "      <th>BUILDING CLASS CATEGORY_46 CONDO STORE BUILDINGS</th>\n",
              "      <th>BUILDING CLASS CATEGORY_47 CONDO NON-BUSINESS STORAGE</th>\n",
              "      <th>BUILDING CLASS CATEGORY_48 CONDO TERRACES/GARDENS/CABANAS</th>\n",
              "      <th>TAX CLASS AT PRESENT_</th>\n",
              "      <th>TAX CLASS AT PRESENT_1</th>\n",
              "      <th>TAX CLASS AT PRESENT_1A</th>\n",
              "      <th>TAX CLASS AT PRESENT_1B</th>\n",
              "      <th>TAX CLASS AT PRESENT_1C</th>\n",
              "      <th>TAX CLASS AT PRESENT_2</th>\n",
              "      <th>TAX CLASS AT PRESENT_2A</th>\n",
              "      <th>TAX CLASS AT PRESENT_2B</th>\n",
              "      <th>TAX CLASS AT PRESENT_2C</th>\n",
              "      <th>TAX CLASS AT PRESENT_3</th>\n",
              "      <th>TAX CLASS AT PRESENT_4</th>\n",
              "      <th>TAX CLASS AT TIME OF SALE_1</th>\n",
              "      <th>TAX CLASS AT TIME OF SALE_2</th>\n",
              "      <th>TAX CLASS AT TIME OF SALE_3</th>\n",
              "      <th>TAX CLASS AT TIME OF SALE_4</th>\n",
              "    </tr>\n",
              "  </thead>\n",
              "  <tbody>\n",
              "    <tr>\n",
              "      <th>3</th>\n",
              "      <td>1</td>\n",
              "      <td>0</td>\n",
              "      <td>0</td>\n",
              "      <td>0</td>\n",
              "      <td>0</td>\n",
              "      <td>0</td>\n",
              "      <td>0</td>\n",
              "      <td>0</td>\n",
              "      <td>0</td>\n",
              "      <td>0</td>\n",
              "      <td>0</td>\n",
              "      <td>1</td>\n",
              "      <td>0</td>\n",
              "      <td>0</td>\n",
              "      <td>0</td>\n",
              "      <td>0</td>\n",
              "      <td>0</td>\n",
              "      <td>0</td>\n",
              "      <td>0</td>\n",
              "      <td>0</td>\n",
              "      <td>0</td>\n",
              "      <td>0</td>\n",
              "      <td>0</td>\n",
              "      <td>0</td>\n",
              "      <td>0</td>\n",
              "      <td>0</td>\n",
              "      <td>0</td>\n",
              "      <td>0</td>\n",
              "      <td>0</td>\n",
              "      <td>0</td>\n",
              "      <td>0</td>\n",
              "      <td>0</td>\n",
              "      <td>0</td>\n",
              "      <td>0</td>\n",
              "      <td>0</td>\n",
              "      <td>0</td>\n",
              "      <td>0</td>\n",
              "      <td>0</td>\n",
              "      <td>0</td>\n",
              "      <td>0</td>\n",
              "      <td>0</td>\n",
              "      <td>0</td>\n",
              "      <td>0</td>\n",
              "      <td>0</td>\n",
              "      <td>0</td>\n",
              "      <td>0</td>\n",
              "      <td>0</td>\n",
              "      <td>0</td>\n",
              "      <td>1</td>\n",
              "      <td>0</td>\n",
              "      <td>0</td>\n",
              "      <td>0</td>\n",
              "      <td>0</td>\n",
              "      <td>1</td>\n",
              "      <td>0</td>\n",
              "      <td>0</td>\n",
              "    </tr>\n",
              "    <tr>\n",
              "      <th>6</th>\n",
              "      <td>1</td>\n",
              "      <td>0</td>\n",
              "      <td>0</td>\n",
              "      <td>0</td>\n",
              "      <td>0</td>\n",
              "      <td>0</td>\n",
              "      <td>0</td>\n",
              "      <td>0</td>\n",
              "      <td>0</td>\n",
              "      <td>0</td>\n",
              "      <td>0</td>\n",
              "      <td>1</td>\n",
              "      <td>0</td>\n",
              "      <td>0</td>\n",
              "      <td>0</td>\n",
              "      <td>0</td>\n",
              "      <td>0</td>\n",
              "      <td>0</td>\n",
              "      <td>0</td>\n",
              "      <td>0</td>\n",
              "      <td>0</td>\n",
              "      <td>0</td>\n",
              "      <td>0</td>\n",
              "      <td>0</td>\n",
              "      <td>0</td>\n",
              "      <td>0</td>\n",
              "      <td>0</td>\n",
              "      <td>0</td>\n",
              "      <td>0</td>\n",
              "      <td>0</td>\n",
              "      <td>0</td>\n",
              "      <td>0</td>\n",
              "      <td>0</td>\n",
              "      <td>0</td>\n",
              "      <td>0</td>\n",
              "      <td>0</td>\n",
              "      <td>0</td>\n",
              "      <td>0</td>\n",
              "      <td>0</td>\n",
              "      <td>0</td>\n",
              "      <td>0</td>\n",
              "      <td>0</td>\n",
              "      <td>0</td>\n",
              "      <td>0</td>\n",
              "      <td>0</td>\n",
              "      <td>0</td>\n",
              "      <td>0</td>\n",
              "      <td>0</td>\n",
              "      <td>1</td>\n",
              "      <td>0</td>\n",
              "      <td>0</td>\n",
              "      <td>0</td>\n",
              "      <td>0</td>\n",
              "      <td>1</td>\n",
              "      <td>0</td>\n",
              "      <td>0</td>\n",
              "    </tr>\n",
              "    <tr>\n",
              "      <th>76</th>\n",
              "      <td>1</td>\n",
              "      <td>0</td>\n",
              "      <td>0</td>\n",
              "      <td>0</td>\n",
              "      <td>0</td>\n",
              "      <td>0</td>\n",
              "      <td>0</td>\n",
              "      <td>0</td>\n",
              "      <td>0</td>\n",
              "      <td>0</td>\n",
              "      <td>0</td>\n",
              "      <td>0</td>\n",
              "      <td>0</td>\n",
              "      <td>0</td>\n",
              "      <td>1</td>\n",
              "      <td>0</td>\n",
              "      <td>0</td>\n",
              "      <td>0</td>\n",
              "      <td>0</td>\n",
              "      <td>0</td>\n",
              "      <td>0</td>\n",
              "      <td>0</td>\n",
              "      <td>0</td>\n",
              "      <td>0</td>\n",
              "      <td>0</td>\n",
              "      <td>0</td>\n",
              "      <td>0</td>\n",
              "      <td>0</td>\n",
              "      <td>0</td>\n",
              "      <td>0</td>\n",
              "      <td>0</td>\n",
              "      <td>0</td>\n",
              "      <td>0</td>\n",
              "      <td>0</td>\n",
              "      <td>0</td>\n",
              "      <td>0</td>\n",
              "      <td>0</td>\n",
              "      <td>0</td>\n",
              "      <td>0</td>\n",
              "      <td>0</td>\n",
              "      <td>0</td>\n",
              "      <td>0</td>\n",
              "      <td>0</td>\n",
              "      <td>0</td>\n",
              "      <td>0</td>\n",
              "      <td>0</td>\n",
              "      <td>1</td>\n",
              "      <td>0</td>\n",
              "      <td>0</td>\n",
              "      <td>0</td>\n",
              "      <td>0</td>\n",
              "      <td>0</td>\n",
              "      <td>0</td>\n",
              "      <td>1</td>\n",
              "      <td>0</td>\n",
              "      <td>0</td>\n",
              "    </tr>\n",
              "    <tr>\n",
              "      <th>79</th>\n",
              "      <td>1</td>\n",
              "      <td>0</td>\n",
              "      <td>0</td>\n",
              "      <td>0</td>\n",
              "      <td>0</td>\n",
              "      <td>0</td>\n",
              "      <td>0</td>\n",
              "      <td>0</td>\n",
              "      <td>0</td>\n",
              "      <td>0</td>\n",
              "      <td>0</td>\n",
              "      <td>0</td>\n",
              "      <td>0</td>\n",
              "      <td>0</td>\n",
              "      <td>0</td>\n",
              "      <td>1</td>\n",
              "      <td>0</td>\n",
              "      <td>0</td>\n",
              "      <td>0</td>\n",
              "      <td>0</td>\n",
              "      <td>0</td>\n",
              "      <td>0</td>\n",
              "      <td>0</td>\n",
              "      <td>0</td>\n",
              "      <td>0</td>\n",
              "      <td>0</td>\n",
              "      <td>0</td>\n",
              "      <td>0</td>\n",
              "      <td>0</td>\n",
              "      <td>0</td>\n",
              "      <td>0</td>\n",
              "      <td>0</td>\n",
              "      <td>0</td>\n",
              "      <td>0</td>\n",
              "      <td>0</td>\n",
              "      <td>0</td>\n",
              "      <td>0</td>\n",
              "      <td>0</td>\n",
              "      <td>0</td>\n",
              "      <td>0</td>\n",
              "      <td>0</td>\n",
              "      <td>0</td>\n",
              "      <td>0</td>\n",
              "      <td>0</td>\n",
              "      <td>0</td>\n",
              "      <td>0</td>\n",
              "      <td>1</td>\n",
              "      <td>0</td>\n",
              "      <td>0</td>\n",
              "      <td>0</td>\n",
              "      <td>0</td>\n",
              "      <td>0</td>\n",
              "      <td>0</td>\n",
              "      <td>1</td>\n",
              "      <td>0</td>\n",
              "      <td>0</td>\n",
              "    </tr>\n",
              "    <tr>\n",
              "      <th>80</th>\n",
              "      <td>1</td>\n",
              "      <td>0</td>\n",
              "      <td>0</td>\n",
              "      <td>0</td>\n",
              "      <td>0</td>\n",
              "      <td>0</td>\n",
              "      <td>0</td>\n",
              "      <td>0</td>\n",
              "      <td>0</td>\n",
              "      <td>0</td>\n",
              "      <td>0</td>\n",
              "      <td>0</td>\n",
              "      <td>0</td>\n",
              "      <td>0</td>\n",
              "      <td>0</td>\n",
              "      <td>1</td>\n",
              "      <td>0</td>\n",
              "      <td>0</td>\n",
              "      <td>0</td>\n",
              "      <td>0</td>\n",
              "      <td>0</td>\n",
              "      <td>0</td>\n",
              "      <td>0</td>\n",
              "      <td>0</td>\n",
              "      <td>0</td>\n",
              "      <td>0</td>\n",
              "      <td>0</td>\n",
              "      <td>0</td>\n",
              "      <td>0</td>\n",
              "      <td>0</td>\n",
              "      <td>0</td>\n",
              "      <td>0</td>\n",
              "      <td>0</td>\n",
              "      <td>0</td>\n",
              "      <td>0</td>\n",
              "      <td>0</td>\n",
              "      <td>0</td>\n",
              "      <td>0</td>\n",
              "      <td>0</td>\n",
              "      <td>0</td>\n",
              "      <td>0</td>\n",
              "      <td>0</td>\n",
              "      <td>0</td>\n",
              "      <td>0</td>\n",
              "      <td>0</td>\n",
              "      <td>0</td>\n",
              "      <td>1</td>\n",
              "      <td>0</td>\n",
              "      <td>0</td>\n",
              "      <td>0</td>\n",
              "      <td>0</td>\n",
              "      <td>0</td>\n",
              "      <td>0</td>\n",
              "      <td>1</td>\n",
              "      <td>0</td>\n",
              "      <td>0</td>\n",
              "    </tr>\n",
              "    <tr>\n",
              "      <th>...</th>\n",
              "      <td>...</td>\n",
              "      <td>...</td>\n",
              "      <td>...</td>\n",
              "      <td>...</td>\n",
              "      <td>...</td>\n",
              "      <td>...</td>\n",
              "      <td>...</td>\n",
              "      <td>...</td>\n",
              "      <td>...</td>\n",
              "      <td>...</td>\n",
              "      <td>...</td>\n",
              "      <td>...</td>\n",
              "      <td>...</td>\n",
              "      <td>...</td>\n",
              "      <td>...</td>\n",
              "      <td>...</td>\n",
              "      <td>...</td>\n",
              "      <td>...</td>\n",
              "      <td>...</td>\n",
              "      <td>...</td>\n",
              "      <td>...</td>\n",
              "      <td>...</td>\n",
              "      <td>...</td>\n",
              "      <td>...</td>\n",
              "      <td>...</td>\n",
              "      <td>...</td>\n",
              "      <td>...</td>\n",
              "      <td>...</td>\n",
              "      <td>...</td>\n",
              "      <td>...</td>\n",
              "      <td>...</td>\n",
              "      <td>...</td>\n",
              "      <td>...</td>\n",
              "      <td>...</td>\n",
              "      <td>...</td>\n",
              "      <td>...</td>\n",
              "      <td>...</td>\n",
              "      <td>...</td>\n",
              "      <td>...</td>\n",
              "      <td>...</td>\n",
              "      <td>...</td>\n",
              "      <td>...</td>\n",
              "      <td>...</td>\n",
              "      <td>...</td>\n",
              "      <td>...</td>\n",
              "      <td>...</td>\n",
              "      <td>...</td>\n",
              "      <td>...</td>\n",
              "      <td>...</td>\n",
              "      <td>...</td>\n",
              "      <td>...</td>\n",
              "      <td>...</td>\n",
              "      <td>...</td>\n",
              "      <td>...</td>\n",
              "      <td>...</td>\n",
              "      <td>...</td>\n",
              "    </tr>\n",
              "    <tr>\n",
              "      <th>84537</th>\n",
              "      <td>0</td>\n",
              "      <td>0</td>\n",
              "      <td>0</td>\n",
              "      <td>0</td>\n",
              "      <td>1</td>\n",
              "      <td>0</td>\n",
              "      <td>1</td>\n",
              "      <td>0</td>\n",
              "      <td>0</td>\n",
              "      <td>0</td>\n",
              "      <td>0</td>\n",
              "      <td>0</td>\n",
              "      <td>0</td>\n",
              "      <td>0</td>\n",
              "      <td>0</td>\n",
              "      <td>0</td>\n",
              "      <td>0</td>\n",
              "      <td>0</td>\n",
              "      <td>0</td>\n",
              "      <td>0</td>\n",
              "      <td>0</td>\n",
              "      <td>0</td>\n",
              "      <td>0</td>\n",
              "      <td>0</td>\n",
              "      <td>0</td>\n",
              "      <td>0</td>\n",
              "      <td>0</td>\n",
              "      <td>0</td>\n",
              "      <td>0</td>\n",
              "      <td>0</td>\n",
              "      <td>0</td>\n",
              "      <td>0</td>\n",
              "      <td>0</td>\n",
              "      <td>0</td>\n",
              "      <td>0</td>\n",
              "      <td>0</td>\n",
              "      <td>0</td>\n",
              "      <td>0</td>\n",
              "      <td>0</td>\n",
              "      <td>0</td>\n",
              "      <td>0</td>\n",
              "      <td>0</td>\n",
              "      <td>1</td>\n",
              "      <td>0</td>\n",
              "      <td>0</td>\n",
              "      <td>0</td>\n",
              "      <td>0</td>\n",
              "      <td>0</td>\n",
              "      <td>0</td>\n",
              "      <td>0</td>\n",
              "      <td>0</td>\n",
              "      <td>0</td>\n",
              "      <td>1</td>\n",
              "      <td>0</td>\n",
              "      <td>0</td>\n",
              "      <td>0</td>\n",
              "    </tr>\n",
              "    <tr>\n",
              "      <th>84540</th>\n",
              "      <td>0</td>\n",
              "      <td>0</td>\n",
              "      <td>0</td>\n",
              "      <td>0</td>\n",
              "      <td>1</td>\n",
              "      <td>0</td>\n",
              "      <td>1</td>\n",
              "      <td>0</td>\n",
              "      <td>0</td>\n",
              "      <td>0</td>\n",
              "      <td>0</td>\n",
              "      <td>0</td>\n",
              "      <td>0</td>\n",
              "      <td>0</td>\n",
              "      <td>0</td>\n",
              "      <td>0</td>\n",
              "      <td>0</td>\n",
              "      <td>0</td>\n",
              "      <td>0</td>\n",
              "      <td>0</td>\n",
              "      <td>0</td>\n",
              "      <td>0</td>\n",
              "      <td>0</td>\n",
              "      <td>0</td>\n",
              "      <td>0</td>\n",
              "      <td>0</td>\n",
              "      <td>0</td>\n",
              "      <td>0</td>\n",
              "      <td>0</td>\n",
              "      <td>0</td>\n",
              "      <td>0</td>\n",
              "      <td>0</td>\n",
              "      <td>0</td>\n",
              "      <td>0</td>\n",
              "      <td>0</td>\n",
              "      <td>0</td>\n",
              "      <td>0</td>\n",
              "      <td>0</td>\n",
              "      <td>0</td>\n",
              "      <td>0</td>\n",
              "      <td>0</td>\n",
              "      <td>0</td>\n",
              "      <td>1</td>\n",
              "      <td>0</td>\n",
              "      <td>0</td>\n",
              "      <td>0</td>\n",
              "      <td>0</td>\n",
              "      <td>0</td>\n",
              "      <td>0</td>\n",
              "      <td>0</td>\n",
              "      <td>0</td>\n",
              "      <td>0</td>\n",
              "      <td>1</td>\n",
              "      <td>0</td>\n",
              "      <td>0</td>\n",
              "      <td>0</td>\n",
              "    </tr>\n",
              "    <tr>\n",
              "      <th>84543</th>\n",
              "      <td>0</td>\n",
              "      <td>0</td>\n",
              "      <td>0</td>\n",
              "      <td>0</td>\n",
              "      <td>1</td>\n",
              "      <td>0</td>\n",
              "      <td>1</td>\n",
              "      <td>0</td>\n",
              "      <td>0</td>\n",
              "      <td>0</td>\n",
              "      <td>0</td>\n",
              "      <td>0</td>\n",
              "      <td>0</td>\n",
              "      <td>0</td>\n",
              "      <td>0</td>\n",
              "      <td>0</td>\n",
              "      <td>0</td>\n",
              "      <td>0</td>\n",
              "      <td>0</td>\n",
              "      <td>0</td>\n",
              "      <td>0</td>\n",
              "      <td>0</td>\n",
              "      <td>0</td>\n",
              "      <td>0</td>\n",
              "      <td>0</td>\n",
              "      <td>0</td>\n",
              "      <td>0</td>\n",
              "      <td>0</td>\n",
              "      <td>0</td>\n",
              "      <td>0</td>\n",
              "      <td>0</td>\n",
              "      <td>0</td>\n",
              "      <td>0</td>\n",
              "      <td>0</td>\n",
              "      <td>0</td>\n",
              "      <td>0</td>\n",
              "      <td>0</td>\n",
              "      <td>0</td>\n",
              "      <td>0</td>\n",
              "      <td>0</td>\n",
              "      <td>0</td>\n",
              "      <td>0</td>\n",
              "      <td>1</td>\n",
              "      <td>0</td>\n",
              "      <td>0</td>\n",
              "      <td>0</td>\n",
              "      <td>0</td>\n",
              "      <td>0</td>\n",
              "      <td>0</td>\n",
              "      <td>0</td>\n",
              "      <td>0</td>\n",
              "      <td>0</td>\n",
              "      <td>1</td>\n",
              "      <td>0</td>\n",
              "      <td>0</td>\n",
              "      <td>0</td>\n",
              "    </tr>\n",
              "    <tr>\n",
              "      <th>84544</th>\n",
              "      <td>0</td>\n",
              "      <td>0</td>\n",
              "      <td>0</td>\n",
              "      <td>0</td>\n",
              "      <td>1</td>\n",
              "      <td>0</td>\n",
              "      <td>1</td>\n",
              "      <td>0</td>\n",
              "      <td>0</td>\n",
              "      <td>0</td>\n",
              "      <td>0</td>\n",
              "      <td>0</td>\n",
              "      <td>0</td>\n",
              "      <td>0</td>\n",
              "      <td>0</td>\n",
              "      <td>0</td>\n",
              "      <td>0</td>\n",
              "      <td>0</td>\n",
              "      <td>0</td>\n",
              "      <td>0</td>\n",
              "      <td>0</td>\n",
              "      <td>0</td>\n",
              "      <td>0</td>\n",
              "      <td>0</td>\n",
              "      <td>0</td>\n",
              "      <td>0</td>\n",
              "      <td>0</td>\n",
              "      <td>0</td>\n",
              "      <td>0</td>\n",
              "      <td>0</td>\n",
              "      <td>0</td>\n",
              "      <td>0</td>\n",
              "      <td>0</td>\n",
              "      <td>0</td>\n",
              "      <td>0</td>\n",
              "      <td>0</td>\n",
              "      <td>0</td>\n",
              "      <td>0</td>\n",
              "      <td>0</td>\n",
              "      <td>0</td>\n",
              "      <td>0</td>\n",
              "      <td>0</td>\n",
              "      <td>1</td>\n",
              "      <td>0</td>\n",
              "      <td>0</td>\n",
              "      <td>0</td>\n",
              "      <td>0</td>\n",
              "      <td>0</td>\n",
              "      <td>0</td>\n",
              "      <td>0</td>\n",
              "      <td>0</td>\n",
              "      <td>0</td>\n",
              "      <td>1</td>\n",
              "      <td>0</td>\n",
              "      <td>0</td>\n",
              "      <td>0</td>\n",
              "    </tr>\n",
              "    <tr>\n",
              "      <th>84545</th>\n",
              "      <td>0</td>\n",
              "      <td>0</td>\n",
              "      <td>0</td>\n",
              "      <td>0</td>\n",
              "      <td>1</td>\n",
              "      <td>0</td>\n",
              "      <td>1</td>\n",
              "      <td>0</td>\n",
              "      <td>0</td>\n",
              "      <td>0</td>\n",
              "      <td>0</td>\n",
              "      <td>0</td>\n",
              "      <td>0</td>\n",
              "      <td>0</td>\n",
              "      <td>0</td>\n",
              "      <td>0</td>\n",
              "      <td>0</td>\n",
              "      <td>0</td>\n",
              "      <td>0</td>\n",
              "      <td>0</td>\n",
              "      <td>0</td>\n",
              "      <td>0</td>\n",
              "      <td>0</td>\n",
              "      <td>0</td>\n",
              "      <td>0</td>\n",
              "      <td>0</td>\n",
              "      <td>0</td>\n",
              "      <td>0</td>\n",
              "      <td>0</td>\n",
              "      <td>0</td>\n",
              "      <td>0</td>\n",
              "      <td>0</td>\n",
              "      <td>0</td>\n",
              "      <td>0</td>\n",
              "      <td>0</td>\n",
              "      <td>0</td>\n",
              "      <td>0</td>\n",
              "      <td>0</td>\n",
              "      <td>0</td>\n",
              "      <td>0</td>\n",
              "      <td>0</td>\n",
              "      <td>0</td>\n",
              "      <td>1</td>\n",
              "      <td>0</td>\n",
              "      <td>0</td>\n",
              "      <td>0</td>\n",
              "      <td>0</td>\n",
              "      <td>0</td>\n",
              "      <td>0</td>\n",
              "      <td>0</td>\n",
              "      <td>0</td>\n",
              "      <td>0</td>\n",
              "      <td>1</td>\n",
              "      <td>0</td>\n",
              "      <td>0</td>\n",
              "      <td>0</td>\n",
              "    </tr>\n",
              "  </tbody>\n",
              "</table>\n",
              "<p>38342 rows × 56 columns</p>\n",
              "</div>"
            ],
            "text/plain": [
              "       BOROUGH_1  ...  TAX CLASS AT TIME OF SALE_4\n",
              "3              1  ...                            0\n",
              "6              1  ...                            0\n",
              "76             1  ...                            0\n",
              "79             1  ...                            0\n",
              "80             1  ...                            0\n",
              "...          ...  ...                          ...\n",
              "84537          0  ...                            0\n",
              "84540          0  ...                            0\n",
              "84543          0  ...                            0\n",
              "84544          0  ...                            0\n",
              "84545          0  ...                            0\n",
              "\n",
              "[38342 rows x 56 columns]"
            ]
          },
          "metadata": {
            "tags": []
          },
          "execution_count": 70
        }
      ]
    },
    {
      "cell_type": "code",
      "metadata": {
        "id": "kg7_8UxA4Yzu",
        "colab_type": "code",
        "outputId": "50399033-337d-48fe-f3a6-63d5874ecc32",
        "colab": {
          "base_uri": "https://localhost:8080/",
          "height": 1000
        }
      },
      "source": [
        "# Replacing categorical columns with the dummies\n",
        "\n",
        "fdf = data.drop(one_hot_features, axis=1)\n",
        "fdf = pd.concat([fdf, one_hot_encoded], axis=1)\n",
        "\n",
        "fdf.info()"
      ],
      "execution_count": 0,
      "outputs": [
        {
          "output_type": "stream",
          "text": [
            "<class 'pandas.core.frame.DataFrame'>\n",
            "Int64Index: 38342 entries, 3 to 84545\n",
            "Data columns (total 66 columns):\n",
            "BLOCK                                                                   38342 non-null float64\n",
            "LOT                                                                     38342 non-null float64\n",
            "ZIP CODE                                                                38342 non-null float64\n",
            "RESIDENTIAL UNITS                                                       38342 non-null float64\n",
            "COMMERCIAL UNITS                                                        38342 non-null float64\n",
            "TOTAL UNITS                                                             38342 non-null float64\n",
            "LAND SQUARE FEET                                                        38342 non-null float64\n",
            "GROSS SQUARE FEET                                                       38342 non-null float64\n",
            "YEAR BUILT                                                              38342 non-null float64\n",
            "SALE PRICE                                                              38342 non-null float64\n",
            "BOROUGH_1                                                               38342 non-null uint8\n",
            "BOROUGH_2                                                               38342 non-null uint8\n",
            "BOROUGH_3                                                               38342 non-null uint8\n",
            "BOROUGH_4                                                               38342 non-null uint8\n",
            "BOROUGH_5                                                               38342 non-null uint8\n",
            "BUILDING CLASS CATEGORY_01 ONE FAMILY DWELLINGS                         38342 non-null uint8\n",
            "BUILDING CLASS CATEGORY_02 TWO FAMILY DWELLINGS                         38342 non-null uint8\n",
            "BUILDING CLASS CATEGORY_03 THREE FAMILY DWELLINGS                       38342 non-null uint8\n",
            "BUILDING CLASS CATEGORY_04 TAX CLASS 1 CONDOS                           38342 non-null uint8\n",
            "BUILDING CLASS CATEGORY_05 TAX CLASS 1 VACANT LAND                      38342 non-null uint8\n",
            "BUILDING CLASS CATEGORY_06 TAX CLASS 1 - OTHER                          38342 non-null uint8\n",
            "BUILDING CLASS CATEGORY_07 RENTALS - WALKUP APARTMENTS                  38342 non-null uint8\n",
            "BUILDING CLASS CATEGORY_08 RENTALS - ELEVATOR APARTMENTS                38342 non-null uint8\n",
            "BUILDING CLASS CATEGORY_11A CONDO-RENTALS                               38342 non-null uint8\n",
            "BUILDING CLASS CATEGORY_12 CONDOS - WALKUP APARTMENTS                   38342 non-null uint8\n",
            "BUILDING CLASS CATEGORY_13 CONDOS - ELEVATOR APARTMENTS                 38342 non-null uint8\n",
            "BUILDING CLASS CATEGORY_14 RENTALS - 4-10 UNIT                          38342 non-null uint8\n",
            "BUILDING CLASS CATEGORY_15 CONDOS - 2-10 UNIT RESIDENTIAL               38342 non-null uint8\n",
            "BUILDING CLASS CATEGORY_16 CONDOS - 2-10 UNIT WITH COMMERCIAL UNIT      38342 non-null uint8\n",
            "BUILDING CLASS CATEGORY_21 OFFICE BUILDINGS                             38342 non-null uint8\n",
            "BUILDING CLASS CATEGORY_22 STORE BUILDINGS                              38342 non-null uint8\n",
            "BUILDING CLASS CATEGORY_23 LOFT BUILDINGS                               38342 non-null uint8\n",
            "BUILDING CLASS CATEGORY_26 OTHER HOTELS                                 38342 non-null uint8\n",
            "BUILDING CLASS CATEGORY_27 FACTORIES                                    38342 non-null uint8\n",
            "BUILDING CLASS CATEGORY_28 COMMERCIAL CONDOS                            38342 non-null uint8\n",
            "BUILDING CLASS CATEGORY_29 COMMERCIAL GARAGES                           38342 non-null uint8\n",
            "BUILDING CLASS CATEGORY_30 WAREHOUSES                                   38342 non-null uint8\n",
            "BUILDING CLASS CATEGORY_31 COMMERCIAL VACANT LAND                       38342 non-null uint8\n",
            "BUILDING CLASS CATEGORY_32 HOSPITAL AND HEALTH FACILITIES               38342 non-null uint8\n",
            "BUILDING CLASS CATEGORY_33 EDUCATIONAL FACILITIES                       38342 non-null uint8\n",
            "BUILDING CLASS CATEGORY_35 INDOOR PUBLIC AND CULTURAL FACILITIES        38342 non-null uint8\n",
            "BUILDING CLASS CATEGORY_37 RELIGIOUS FACILITIES                         38342 non-null uint8\n",
            "BUILDING CLASS CATEGORY_38 ASYLUMS AND HOMES                            38342 non-null uint8\n",
            "BUILDING CLASS CATEGORY_41 TAX CLASS 4 - OTHER                          38342 non-null uint8\n",
            "BUILDING CLASS CATEGORY_42 CONDO CULTURAL/MEDICAL/EDUCATIONAL/ETC       38342 non-null uint8\n",
            "BUILDING CLASS CATEGORY_43 CONDO OFFICE BUILDINGS                       38342 non-null uint8\n",
            "BUILDING CLASS CATEGORY_44 CONDO PARKING                                38342 non-null uint8\n",
            "BUILDING CLASS CATEGORY_45 CONDO HOTELS                                 38342 non-null uint8\n",
            "BUILDING CLASS CATEGORY_46 CONDO STORE BUILDINGS                        38342 non-null uint8\n",
            "BUILDING CLASS CATEGORY_47 CONDO NON-BUSINESS STORAGE                   38342 non-null uint8\n",
            "BUILDING CLASS CATEGORY_48 CONDO TERRACES/GARDENS/CABANAS               38342 non-null uint8\n",
            "TAX CLASS AT PRESENT_                                                   38342 non-null uint8\n",
            "TAX CLASS AT PRESENT_1                                                  38342 non-null uint8\n",
            "TAX CLASS AT PRESENT_1A                                                 38342 non-null uint8\n",
            "TAX CLASS AT PRESENT_1B                                                 38342 non-null uint8\n",
            "TAX CLASS AT PRESENT_1C                                                 38342 non-null uint8\n",
            "TAX CLASS AT PRESENT_2                                                  38342 non-null uint8\n",
            "TAX CLASS AT PRESENT_2A                                                 38342 non-null uint8\n",
            "TAX CLASS AT PRESENT_2B                                                 38342 non-null uint8\n",
            "TAX CLASS AT PRESENT_2C                                                 38342 non-null uint8\n",
            "TAX CLASS AT PRESENT_3                                                  38342 non-null uint8\n",
            "TAX CLASS AT PRESENT_4                                                  38342 non-null uint8\n",
            "TAX CLASS AT TIME OF SALE_1                                             38342 non-null uint8\n",
            "TAX CLASS AT TIME OF SALE_2                                             38342 non-null uint8\n",
            "TAX CLASS AT TIME OF SALE_3                                             38342 non-null uint8\n",
            "TAX CLASS AT TIME OF SALE_4                                             38342 non-null uint8\n",
            "dtypes: float64(10), uint8(56)\n",
            "memory usage: 6.5 MB\n"
          ],
          "name": "stdout"
        }
      ]
    },
    {
      "cell_type": "markdown",
      "metadata": {
        "id": "OKosMoB04v2f",
        "colab_type": "text"
      },
      "source": [
        "---------------------------"
      ]
    },
    {
      "cell_type": "markdown",
      "metadata": {
        "id": "iRraLV0j4w-H",
        "colab_type": "text"
      },
      "source": [
        "Train Test Split"
      ]
    },
    {
      "cell_type": "code",
      "metadata": {
        "id": "YhNhMBD74qeP",
        "colab_type": "code",
        "outputId": "06033abc-4391-4bdf-e1de-204194d2937c",
        "colab": {
          "base_uri": "https://localhost:8080/",
          "height": 35
        }
      },
      "source": [
        "y_fdf = fdf['SALE PRICE']\n",
        "X_fdf = fdf.drop('SALE PRICE', axis=1)\n",
        "\n",
        "print(X_fdf.shape, y_fdf.shape)"
      ],
      "execution_count": 0,
      "outputs": [
        {
          "output_type": "stream",
          "text": [
            "(38342, 65) (38342,)\n"
          ],
          "name": "stdout"
        }
      ]
    },
    {
      "cell_type": "code",
      "metadata": {
        "id": "OzkYfhy647c7",
        "colab_type": "code",
        "colab": {}
      },
      "source": [
        "X_train, X_test, y_train, y_test = train_test_split(X_fdf, y_fdf, test_size=0.3, random_state=34)\n"
      ],
      "execution_count": 0,
      "outputs": []
    },
    {
      "cell_type": "code",
      "metadata": {
        "id": "6KDQsZ3Z5FR8",
        "colab_type": "code",
        "outputId": "c1fbfc6a-1a7c-4158-8e78-3869fb55e156",
        "colab": {
          "base_uri": "https://localhost:8080/",
          "height": 90
        }
      },
      "source": [
        "print('X_train: ', X_train.shape)\n",
        "print('Y_train: ', y_train.shape)\n",
        "\n",
        "print('X_test: ', X_test.shape)\n",
        "print('Y_test: ', y_test.shape)"
      ],
      "execution_count": 0,
      "outputs": [
        {
          "output_type": "stream",
          "text": [
            "X_train:  (26839, 65)\n",
            "Y_train:  (26839,)\n",
            "X_test:  (11503, 65)\n",
            "Y_test:  (11503,)\n"
          ],
          "name": "stdout"
        }
      ]
    },
    {
      "cell_type": "code",
      "metadata": {
        "id": "SMIdKfiT5Tvi",
        "colab_type": "code",
        "colab": {}
      },
      "source": [
        "# Defining the Error function first - THE LOWER THE BETTER!\n",
        "\n",
        "def rmse(y_test, y_pred):\n",
        "  return np.sqrt(mean_squared_error(y_test, y_pred))\n"
      ],
      "execution_count": 0,
      "outputs": []
    },
    {
      "cell_type": "code",
      "metadata": {
        "id": "SuR_VsYm64xI",
        "colab_type": "code",
        "outputId": "d635c18b-0438-45ac-e165-97d600fa9046",
        "colab": {
          "base_uri": "https://localhost:8080/",
          "height": 35
        }
      },
      "source": [
        "# Linear regression\n",
        "\n",
        "linreg = LinearRegression()\n",
        "linreg.fit(X_train, y_train)\n",
        "y_pred_linreg = linreg.predict(X_test)\n",
        "rmse(y_test, y_pred_linreg)"
      ],
      "execution_count": 0,
      "outputs": [
        {
          "output_type": "execute_result",
          "data": {
            "text/plain": [
              "0.7535412926078288"
            ]
          },
          "metadata": {
            "tags": []
          },
          "execution_count": 76
        }
      ]
    },
    {
      "cell_type": "code",
      "metadata": {
        "id": "5N08botB7FPG",
        "colab_type": "code",
        "outputId": "4afd217e-3dba-47d7-b4dc-2327e7c40100",
        "colab": {
          "base_uri": "https://localhost:8080/",
          "height": 35
        }
      },
      "source": [
        "# Lasso regression\n",
        "\n",
        "alpha = 0.00099\n",
        "lasso_reg = Lasso(alpha=alpha, max_iter=50000)\n",
        "lasso_reg.fit(X_train, y_train)\n",
        "y_pred_lasso = lasso_reg.predict(X_test)\n",
        "rmse(y_test, y_pred_lasso)"
      ],
      "execution_count": 0,
      "outputs": [
        {
          "output_type": "execute_result",
          "data": {
            "text/plain": [
              "0.7545342173339241"
            ]
          },
          "metadata": {
            "tags": []
          },
          "execution_count": 77
        }
      ]
    },
    {
      "cell_type": "code",
      "metadata": {
        "id": "nOA1Dc0R7TSC",
        "colab_type": "code",
        "outputId": "3925455d-9750-4900-a876-a6aa8f6e0b2b",
        "colab": {
          "base_uri": "https://localhost:8080/",
          "height": 35
        }
      },
      "source": [
        "# Ridge regression\n",
        "\n",
        "ridge = Ridge(alpha=0.01, normalize=True)\n",
        "ridge.fit(X_train, y_train)\n",
        "y_pred_ridge = ridge.predict(X_test)\n",
        "rmse(y_test, y_pred_ridge)"
      ],
      "execution_count": 0,
      "outputs": [
        {
          "output_type": "execute_result",
          "data": {
            "text/plain": [
              "0.7536328245407319"
            ]
          },
          "metadata": {
            "tags": []
          },
          "execution_count": 78
        }
      ]
    },
    {
      "cell_type": "code",
      "metadata": {
        "id": "bYOnbAqZ7jjt",
        "colab_type": "code",
        "outputId": "286618fb-8c36-40b6-b7f9-7b09dd0e392c",
        "colab": {
          "base_uri": "https://localhost:8080/",
          "height": 35
        }
      },
      "source": [
        "# Random Forest Regressor\n",
        "\n",
        "rf_reg = RandomForestRegressor()\n",
        "rf_reg.fit(X_train, y_train)\n",
        "y_pred_rf = rf_reg.predict(X_test)\n",
        "rmse(y_test, y_pred_rf)"
      ],
      "execution_count": 0,
      "outputs": [
        {
          "output_type": "execute_result",
          "data": {
            "text/plain": [
              "0.5671277750728542"
            ]
          },
          "metadata": {
            "tags": []
          },
          "execution_count": 79
        }
      ]
    },
    {
      "cell_type": "markdown",
      "metadata": {
        "id": "SQ39rALmA8oR",
        "colab_type": "text"
      },
      "source": [
        "Random Forest Regressor has the lowest root mean squared error among the 4 regressors."
      ]
    },
    {
      "cell_type": "code",
      "metadata": {
        "id": "I6xOjW0nAc_h",
        "colab_type": "code",
        "colab": {}
      },
      "source": [
        ""
      ],
      "execution_count": 0,
      "outputs": []
    }
  ]
}